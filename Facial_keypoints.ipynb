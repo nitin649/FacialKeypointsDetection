{
  "nbformat": 4,
  "nbformat_minor": 0,
  "metadata": {
    "colab": {
      "name": "Facial_keypoints.ipynb",
      "provenance": [],
      "authorship_tag": "ABX9TyPpdgpS5eoDxv+XU3aU6JuL",
      "include_colab_link": true
    },
    "kernelspec": {
      "name": "python3",
      "display_name": "Python 3"
    },
    "language_info": {
      "name": "python"
    },
    "accelerator": "GPU"
  },
  "cells": [
    {
      "cell_type": "markdown",
      "metadata": {
        "id": "view-in-github",
        "colab_type": "text"
      },
      "source": [
        "<a href=\"https://colab.research.google.com/github/nitin649/FacialKeypointsDetection/blob/main/Facial_keypoints.ipynb\" target=\"_parent\"><img src=\"https://colab.research.google.com/assets/colab-badge.svg\" alt=\"Open In Colab\"/></a>"
      ]
    },
    {
      "cell_type": "code",
      "metadata": {
        "colab": {
          "base_uri": "https://localhost:8080/"
        },
        "id": "alZPBm1saVVj",
        "outputId": "631eaa7f-034c-4eb7-d504-57fd65c49d00"
      },
      "source": [
        "from google.colab import drive\n",
        "drive.mount(\"/content/gdrive\")"
      ],
      "execution_count": null,
      "outputs": [
        {
          "output_type": "stream",
          "name": "stdout",
          "text": [
            "Mounted at /content/gdrive\n"
          ]
        }
      ]
    },
    {
      "cell_type": "code",
      "metadata": {
        "colab": {
          "base_uri": "https://localhost:8080/"
        },
        "id": "L7EOnhYkahzn",
        "outputId": "c6d060a9-1753-43e2-83bf-9a6d28972bf8"
      },
      "source": [
        "#data augumentation\n",
        "!pip install albumentations==0.4.6\n",
        "import torch\n",
        "import albumentations as A\n",
        "from albumentations.pytorch import ToTensorV2\n",
        "import cv2"
      ],
      "execution_count": null,
      "outputs": [
        {
          "output_type": "stream",
          "name": "stdout",
          "text": [
            "Collecting albumentations==0.4.6\n",
            "  Downloading albumentations-0.4.6.tar.gz (117 kB)\n",
            "\u001b[K     |████████████████████████████████| 117 kB 4.2 MB/s \n",
            "\u001b[?25hRequirement already satisfied: numpy>=1.11.1 in /usr/local/lib/python3.7/dist-packages (from albumentations==0.4.6) (1.19.5)\n",
            "Requirement already satisfied: scipy in /usr/local/lib/python3.7/dist-packages (from albumentations==0.4.6) (1.4.1)\n",
            "Collecting imgaug>=0.4.0\n",
            "  Downloading imgaug-0.4.0-py2.py3-none-any.whl (948 kB)\n",
            "\u001b[K     |████████████████████████████████| 948 kB 30.1 MB/s \n",
            "\u001b[?25hRequirement already satisfied: PyYAML in /usr/local/lib/python3.7/dist-packages (from albumentations==0.4.6) (3.13)\n",
            "Requirement already satisfied: opencv-python>=4.1.1 in /usr/local/lib/python3.7/dist-packages (from albumentations==0.4.6) (4.1.2.30)\n",
            "Requirement already satisfied: Pillow in /usr/local/lib/python3.7/dist-packages (from imgaug>=0.4.0->albumentations==0.4.6) (7.1.2)\n",
            "Requirement already satisfied: matplotlib in /usr/local/lib/python3.7/dist-packages (from imgaug>=0.4.0->albumentations==0.4.6) (3.2.2)\n",
            "Requirement already satisfied: six in /usr/local/lib/python3.7/dist-packages (from imgaug>=0.4.0->albumentations==0.4.6) (1.15.0)\n",
            "Requirement already satisfied: scikit-image>=0.14.2 in /usr/local/lib/python3.7/dist-packages (from imgaug>=0.4.0->albumentations==0.4.6) (0.16.2)\n",
            "Requirement already satisfied: imageio in /usr/local/lib/python3.7/dist-packages (from imgaug>=0.4.0->albumentations==0.4.6) (2.4.1)\n",
            "Requirement already satisfied: Shapely in /usr/local/lib/python3.7/dist-packages (from imgaug>=0.4.0->albumentations==0.4.6) (1.7.1)\n",
            "Requirement already satisfied: PyWavelets>=0.4.0 in /usr/local/lib/python3.7/dist-packages (from scikit-image>=0.14.2->imgaug>=0.4.0->albumentations==0.4.6) (1.1.1)\n",
            "Requirement already satisfied: networkx>=2.0 in /usr/local/lib/python3.7/dist-packages (from scikit-image>=0.14.2->imgaug>=0.4.0->albumentations==0.4.6) (2.6.3)\n",
            "Requirement already satisfied: pyparsing!=2.0.4,!=2.1.2,!=2.1.6,>=2.0.1 in /usr/local/lib/python3.7/dist-packages (from matplotlib->imgaug>=0.4.0->albumentations==0.4.6) (2.4.7)\n",
            "Requirement already satisfied: cycler>=0.10 in /usr/local/lib/python3.7/dist-packages (from matplotlib->imgaug>=0.4.0->albumentations==0.4.6) (0.10.0)\n",
            "Requirement already satisfied: kiwisolver>=1.0.1 in /usr/local/lib/python3.7/dist-packages (from matplotlib->imgaug>=0.4.0->albumentations==0.4.6) (1.3.2)\n",
            "Requirement already satisfied: python-dateutil>=2.1 in /usr/local/lib/python3.7/dist-packages (from matplotlib->imgaug>=0.4.0->albumentations==0.4.6) (2.8.2)\n",
            "Building wheels for collected packages: albumentations\n",
            "  Building wheel for albumentations (setup.py) ... \u001b[?25l\u001b[?25hdone\n",
            "  Created wheel for albumentations: filename=albumentations-0.4.6-py3-none-any.whl size=65172 sha256=ef4d99e011487e075b87d06be59ce19617940fdbda4c51cea224c8f48e6b9988\n",
            "  Stored in directory: /root/.cache/pip/wheels/cf/34/0f/cb2a5f93561a181a4bcc84847ad6aaceea8b5a3127469616cc\n",
            "Successfully built albumentations\n",
            "Installing collected packages: imgaug, albumentations\n",
            "  Attempting uninstall: imgaug\n",
            "    Found existing installation: imgaug 0.2.9\n",
            "    Uninstalling imgaug-0.2.9:\n",
            "      Successfully uninstalled imgaug-0.2.9\n",
            "  Attempting uninstall: albumentations\n",
            "    Found existing installation: albumentations 0.1.12\n",
            "    Uninstalling albumentations-0.1.12:\n",
            "      Successfully uninstalled albumentations-0.1.12\n",
            "Successfully installed albumentations-0.4.6 imgaug-0.4.0\n"
          ]
        }
      ]
    },
    {
      "cell_type": "code",
      "metadata": {
        "id": "EhVt2ndibn13"
      },
      "source": [
        "DEVICE = \"cuda\" if torch.cuda.is_available() else \"cpu\"\n",
        "LEARNING_RATE = 1e-4\n",
        "WEIGHT_DECAY = 5e-4\n",
        "BATCH_SIZE = 64\n",
        "NUM_EPOCHS = 100\n",
        "NUM_WORKERS = 4\n",
        "CHECKPOINT_PATH = \"/content/gdrive/MyDrive/Colab Notebooks/LanguageTranslationModel\"\n",
        "PIN_MEMORY = True\n",
        "SAVE_MODEL = True\n",
        "LOAD_MODEL = True"
      ],
      "execution_count": null,
      "outputs": []
    },
    {
      "cell_type": "code",
      "metadata": {
        "id": "cx3NFujNcM2_"
      },
      "source": [
        "# Data augmentation for images\n",
        "train_transforms = A.Compose(\n",
        "    [\n",
        "        A.Resize(width=96, height=96),#image resizing \n",
        "        A.Rotate(limit=15, border_mode=cv2.BORDER_CONSTANT, p=0.8),#rotating of image with prob of 80 percent \n",
        "        A.IAAAffine(shear=15, scale=1.0, mode=\"constant\", p=0.2),\n",
        "        A.RandomBrightnessContrast(contrast_limit=0.5, brightness_limit=0.5, p=0.2),\n",
        "        A.OneOf([#randomly select one of these and will apply on data \n",
        "            A.GaussNoise(p=0.8),\n",
        "            A.CLAHE(p=0.8),\n",
        "            A.ImageCompression(p=0.8),\n",
        "            A.RandomGamma(p=0.8),\n",
        "            A.Posterize(p=0.8),\n",
        "            A.Blur(p=0.8),\n",
        "        ], p=1.0),\n",
        "        A.OneOf([\n",
        "            A.GaussNoise(p=0.8),\n",
        "            A.CLAHE(p=0.8),\n",
        "            A.ImageCompression(p=0.8),\n",
        "            A.RandomGamma(p=0.8),\n",
        "            A.Posterize(p=0.8),\n",
        "            A.Blur(p=0.8),\n",
        "        ], p=1.0),\n",
        "        A.ShiftScaleRotate(shift_limit=0.1, scale_limit=0.1, rotate_limit=0, p=0.2, border_mode=cv2.BORDER_CONSTANT),\n",
        "        A.Normalize(\n",
        "            mean=[0.4897, 0.4897, 0.4897],#here we are taking mean thrice because the data we have is in grayscale and EfficientNetB0 model takes\n",
        "            #input in 3 channel form\n",
        "            std=[0.2330, 0.2330, 0.2330],\n",
        "            max_pixel_value=255.0,\n",
        "        ),\n",
        "        ToTensorV2(),\n",
        "    ], keypoint_params=A.KeypointParams(format=\"xy\", remove_invisible=False),\n",
        ")\n",
        "\n",
        "\n",
        "val_transforms = A.Compose( #transformation for validation\n",
        "    [\n",
        "        A.Resize(height=96, width=96),\n",
        "        A.Normalize(\n",
        "            mean=[0.4897, 0.4897, 0.4897],\n",
        "            std=[0.2330, 0.2330, 0.2330],\n",
        "            max_pixel_value=255.0,\n",
        "        ),\n",
        "        ToTensorV2(),\n",
        "    ], keypoint_params=A.KeypointParams(format=\"xy\", remove_invisible=False),\n",
        ")"
      ],
      "execution_count": null,
      "outputs": []
    },
    {
      "cell_type": "code",
      "metadata": {
        "id": "eIaMosNfjLd8"
      },
      "source": [
        "import pandas as pd\n",
        "import numpy as np\n",
        "import cv2\n",
        "from PIL import Image"
      ],
      "execution_count": null,
      "outputs": []
    },
    {
      "cell_type": "code",
      "metadata": {
        "id": "P4rYBvsHkUwG"
      },
      "source": [
        "train_data=pd.read_csv(r\"/content/gdrive/MyDrive/Colab Notebooks/LanguageTranslationModel/training.csv\")\n",
        "test_data=pd.read_csv(r\"/content/gdrive/MyDrive/Colab Notebooks/LanguageTranslationModel/test.csv\")"
      ],
      "execution_count": null,
      "outputs": []
    },
    {
      "cell_type": "code",
      "metadata": {
        "id": "hOBHl7YJk2Hk"
      },
      "source": [
        "#image \n",
        "image=train_data['Image'][0]\n",
        "image = np.array(image.split()).astype(np.uint8)\n",
        "image = image.reshape(96, 96)\n",
        "img = Image.fromarray(image, 'L')"
      ],
      "execution_count": null,
      "outputs": []
    },
    {
      "cell_type": "code",
      "metadata": {
        "colab": {
          "base_uri": "https://localhost:8080/"
        },
        "id": "ldHyhrCclL2T",
        "outputId": "0326d066-d2e0-4358-8227-a055e62534eb"
      },
      "source": [
        "img.size"
      ],
      "execution_count": null,
      "outputs": [
        {
          "output_type": "execute_result",
          "data": {
            "text/plain": [
              "(96, 96)"
            ]
          },
          "metadata": {},
          "execution_count": 9
        }
      ]
    },
    {
      "cell_type": "code",
      "metadata": {
        "id": "JKj5HWwolZa8"
      },
      "source": [
        "#dataset creation\n",
        "from torch.utils.data import DataLoader,Dataset"
      ],
      "execution_count": null,
      "outputs": []
    },
    {
      "cell_type": "code",
      "metadata": {
        "id": "0wKDNC2FloJh"
      },
      "source": [
        "class facialDataset(Dataset):\n",
        "  def __init__(self,csv_file,train=True,transform=None):\n",
        "    super().__init__()\n",
        "    self.data=pd.read_csv(csv_file)\n",
        "    self.category_names = ['left_eye_center_x', 'left_eye_center_y', 'right_eye_center_x', 'right_eye_center_y', 'left_eye_inner_corner_x', 'left_eye_inner_corner_y', 'left_eye_outer_corner_x', 'left_eye_outer_corner_y', 'right_eye_inner_corner_x', 'right_eye_inner_corner_y', 'right_eye_outer_corner_x', 'right_eye_outer_corner_y', 'left_eyebrow_inner_end_x', 'left_eyebrow_inner_end_y', 'left_eyebrow_outer_end_x', 'left_eyebrow_outer_end_y', 'right_eyebrow_inner_end_x', 'right_eyebrow_inner_end_y', 'right_eyebrow_outer_end_x', 'right_eyebrow_outer_end_y', 'nose_tip_x', 'nose_tip_y', 'mouth_left_corner_x', 'mouth_left_corner_y', 'mouth_right_corner_x', 'mouth_right_corner_y', 'mouth_center_top_lip_x', 'mouth_center_top_lip_y', 'mouth_center_bottom_lip_x', 'mouth_center_bottom_lip_y']\n",
        "    self.transform = transform\n",
        "    self.train = train\n",
        "\n",
        "  def __len__(self,):\n",
        "    return self.data.shape[0]\n",
        "  def __getitem__(self,index):\n",
        "    #data for training\n",
        "    if self.train:#this is for training\n",
        "      image=np.array(self.data.iloc[index,30].split()).astype(np.float32) #image \n",
        "      labels=np.array(self.data.iloc[index,:30].tolist())#labels ex left_eye_center_x ,----------------\n",
        "      labels[np.isnan(labels)]=-1 #inserting NAN val to -1\n",
        "    else:\n",
        "      #print('inside else')\n",
        "      image = np.array(self.data.iloc[index, 1].split()).astype(np.float32)\n",
        "      #print(image,'inside else',index)\n",
        "      labels = np.zeros(30)#inserting 0 in 30 labels \n",
        "    ignore_indices = labels == -1#give true or flase , as we know that we have inserted -1 in the place of NAN we should ignore those labels during training \n",
        "    labels = labels.reshape(15, 2)#converting into (15,2) here 2-->is for x,y because we have the data in x and y format \"left_eye_center_x-->x\" \"left_eye_center_y-->y\"\n",
        "    \n",
        "    if self.transform:\n",
        "            image = np.repeat(image.reshape(96, 96, 1), 3, 2).astype(np.uint8)#here we are repeating our channel into 3 as our model will take input in this way only\n",
        "            augmentations = self.transform(image=image, keypoints=labels)\n",
        "            image = augmentations[\"image\"]\n",
        "            labels = augmentations[\"keypoints\"]\n",
        "    labels = np.array(labels).reshape(-1)#flatting the labels into [1,30]\n",
        "    labels[ignore_indices] = -1\n",
        "\n",
        "    return image, labels.astype(np.float32)\n",
        " \n"
      ],
      "execution_count": null,
      "outputs": []
    },
    {
      "cell_type": "code",
      "metadata": {
        "colab": {
          "base_uri": "https://localhost:8080/",
          "height": 298
        },
        "id": "aOa5p8mvX94R",
        "outputId": "589d2f0e-7ba9-44bb-8741-094447d3401b"
      },
      "source": [
        "import matplotlib.pyplot as plt\n",
        "if __name__ == \"__main__\":\n",
        "    ds = facialDataset(csv_file=r\"/content/gdrive/MyDrive/Colab Notebooks/LanguageTranslationModel/training.csv\", train=True, transform=train_transforms)\n",
        "    print(ds)\n",
        "    loader = DataLoader(ds, batch_size=1, shuffle=True, num_workers=0)\n",
        "    for idx, (x, y) in enumerate(loader):\n",
        "      print('x',x.shape,'y',y.shape)#x torch.Size([1-->batch, 3-->channel, 96, 96]) y torch.Size([1, 30-->labels])\n",
        "      plt.imshow(x[0][0].detach().cpu().numpy(), cmap='gray')\n",
        "      plt.plot(y[0][0::2].detach().cpu().numpy(), y[0][1::2].detach().cpu().numpy(), \"go\")#[0::2] slice the list from 0 with step of 2 because we have the data in this format\n",
        "      #x_feature_1,y_feature_1,x_feature_2,y_feature_2,-----------------------------\n",
        "      plt.show()\n",
        "      break\n",
        "      \n",
        "\n",
        "\n",
        "    #this is how output will look if we have 4 keypoints instead of 15 at the place of NAN we have -1 \n",
        "    # x torch.Size([1, 3, 96, 96]) y torch.Size([1, 30])\n",
        "    # tensor([72.4140, 38.5874, -1.0000, -1.0000, -1.0000, -1.0000, -1.0000, -1.0000,\n",
        "    #     -1.0000, -1.0000, 50.5448, -1.0000, -1.0000, -1.0000, 49.4860]) "
      ],
      "execution_count": null,
      "outputs": [
        {
          "output_type": "stream",
          "name": "stdout",
          "text": [
            "<__main__.facialDataset object at 0x7f0e8aaee610>\n",
            "x torch.Size([1, 3, 96, 96]) y torch.Size([1, 30])\n"
          ]
        },
        {
          "output_type": "display_data",
          "data": {
            "image/png": "[encoded data removed]",
            "text/plain": [
              "<Figure size 432x288 with 1 Axes>"
            ]
          },
          "metadata": {
            "needs_background": "light"
          }
        }
      ]
    },
    {
      "cell_type": "code",
      "metadata": {
        "colab": {
          "base_uri": "https://localhost:8080/"
        },
        "id": "kELplOoJq2if",
        "outputId": "60d39e05-3222-4382-dfb8-87ef8d8071b4"
      },
      "source": [
        "#model creation\n",
        "!pip install efficientnet_pytorch\n",
        "from torch import nn,optim\n",
        "from tqdm import tqdm\n",
        "from efficientnet_pytorch import EfficientNet"
      ],
      "execution_count": null,
      "outputs": [
        {
          "output_type": "stream",
          "name": "stdout",
          "text": [
            "Requirement already satisfied: efficientnet_pytorch in /usr/local/lib/python3.7/dist-packages (0.7.1)\n",
            "Requirement already satisfied: torch in /usr/local/lib/python3.7/dist-packages (from efficientnet_pytorch) (1.9.0+cu111)\n",
            "Requirement already satisfied: typing-extensions in /usr/local/lib/python3.7/dist-packages (from torch->efficientnet_pytorch) (3.7.4.3)\n"
          ]
        }
      ]
    },
    {
      "cell_type": "code",
      "metadata": {
        "id": "cm_aAT7Sq2j_"
      },
      "source": [
        "def train_for_epoch(loader,model,optimizer,loss_fn,scaler,device):\n",
        "  losses=[]\n",
        "  loop=tqdm(loader)\n",
        "  num_examples=0\n",
        "  for batch_idx,(data,targets) in enumerate(loop):\n",
        "    data=data.to(device=device)\n",
        "    targets=targets.to(device=device)\n",
        "\n",
        "    #forward pass\n",
        "    scores=model(data)\n",
        "    scores[targets==-1]=-1#target is qual to -1 set scores also to -1\n",
        "    loss=loss_fn(scores,targets)\n",
        "    num_examples+=torch.numel(scores[targets!=-1])#for calculating exact loss we have to consider only original 1 not -1 which we placed in the place of NAN\n",
        "    losses.append(loss.item())\n",
        "\n",
        "    # backward\n",
        "    optimizer.zero_grad()\n",
        "    loss.backward()\n",
        "    optimizer.step()\n",
        "\n",
        "  print(f\"Loss average over epoch: {(sum(losses)/num_examples)**0.5}\")\n",
        "\n"
      ],
      "execution_count": null,
      "outputs": []
    },
    {
      "cell_type": "code",
      "metadata": {
        "id": "Wr53QTs3yUh5"
      },
      "source": [
        "def save_checkpoint(state, filename=None):\n",
        "    checkpoint_path=CHECKPOINT_PATH\n",
        "    filename=os.path.join(checkpoint_path,filename)\n",
        "    print(\"=> Saving checkpoint\",filename)\n",
        "    torch.save(state, filename)\n",
        "\n",
        "\n",
        "def load_checkpoint(checkpoint, model, optimizer, lr):\n",
        "    print(\"=> Loading checkpoint\")\n",
        "    model.load_state_dict(checkpoint[\"state_dict\"])\n",
        "    optimizer.load_state_dict(checkpoint[\"optimizer\"])\n",
        "\n",
        "    # If we don't do this then it will just have learning rate of old checkpoint\n",
        "    # and it will lead to many hours of debugging \\:\n",
        "    for param_group in optimizer.param_groups:\n",
        "        param_group[\"lr\"] = lr"
      ],
      "execution_count": null,
      "outputs": []
    },
    {
      "cell_type": "code",
      "metadata": {
        "id": "uxatigMLq2oZ"
      },
      "source": [
        "#creating 2 models , one for 15 keypoints and one is for 4 keypoints\n",
        "CHECKPOINT_FILE=\"my_checkpoint_B0.pth.tar\"\n",
        "import os\n",
        "def main():\n",
        "  train_ds = facialDataset(\n",
        "        csv_file=\"/content/gdrive/MyDrive/Colab Notebooks/LanguageTranslationModel/training.csv\",\n",
        "        transform=train_transforms,\n",
        "    )\n",
        "  train_loader = DataLoader(\n",
        "      train_ds,\n",
        "      batch_size=BATCH_SIZE,\n",
        "      num_workers=NUM_WORKERS,\n",
        "      pin_memory=PIN_MEMORY,\n",
        "      shuffle=True,\n",
        "  )\n",
        "  # val_ds = facialDataset(\n",
        "  #     transform=val_transforms,\n",
        "  #     csv_file=\"data/val_4.csv\",\n",
        "  # )\n",
        "  # val_loader = DataLoader(\n",
        "  #     val_ds,\n",
        "  #     batch_size=BATCH_SIZE,\n",
        "  #     num_workers=NUM_WORKERS,\n",
        "  #     pin_memory=PIN_MEMORY,\n",
        "  #     shuffle=False,\n",
        "  # )\n",
        "\n",
        "  # test_ds = facialDataset(\n",
        "  #     csv_file=\"data/test.csv\",\n",
        "  #     transform=val_transforms,\n",
        "  #     train=False,\n",
        "  # )\n",
        "\n",
        "  # test_loader = DataLoader(\n",
        "  #     test_ds,\n",
        "  #     batch_size=1,\n",
        "  #     num_workers=NUM_WORKERS,\n",
        "  #     pin_memory=PIN_MEMORY,\n",
        "  #     shuffle=False,\n",
        "  # )\n",
        "\n",
        "  loss_fn = nn.MSELoss(reduction=\"sum\")#here we are using sum not average because we have to neglect the -1 values as we it is not calculated in the loss \n",
        "  #single model architecture\n",
        "  model = EfficientNet.from_pretrained(\"efficientnet-b0\")\n",
        "  model._fc = nn.Linear(1280, 30)#output of efficientnet is of size of 1280 and 30 is the total labels\n",
        "  model = model.to(DEVICE)\n",
        "  optimizer = optim.Adam(model.parameters(), lr=LEARNING_RATE, weight_decay=WEIGHT_DECAY)\n",
        "  scaler = torch.cuda.amp.GradScaler()\n",
        "\n",
        "  #2 model architecture \n",
        "  model_4 = EfficientNet.from_pretrained(\"efficientnet-b0\")\n",
        "  model_4._fc = nn.Linear(1280, 30)\n",
        "  model_15 = EfficientNet.from_pretrained(\"efficientnet-b0\")\n",
        "  model_15._fc = nn.Linear(1280, 30)\n",
        "  model_4 = model_4.to(DEVICE)\n",
        "  model_15 = model_15.to(DEVICE)\n",
        "\n",
        "  if LOAD_MODEL and CHECKPOINT_FILE in os.listdir(r\"/content/gdrive/MyDrive/Colab Notebooks/LanguageTranslationModel\"):\n",
        "      load_checkpoint(torch.load(CHECKPOINT_FILE), model, optimizer, LEARNING_RATE)\n",
        "      #load_checkpoint(torch.load(\"b0_4.pth.tar\"), model_4, optimizer, LEARNING_RATE)\n",
        "      #load_checkpoint(torch.load(\"b0_15.pth.tar\"), model_15, optimizer, LEARNING_RATE)\n",
        "\n",
        "  #get_submission(test_loader, test_ds, model_15, model_4)\n",
        "\n",
        "  for epoch in range(NUM_EPOCHS):\n",
        "      #get_rmse(val_loader, model, loss_fn, DEVICE)\n",
        "      train_for_epoch(train_loader, model, optimizer, loss_fn, scaler,DEVICE)\n",
        "\n",
        "      # get on validation\n",
        "      if SAVE_MODEL:\n",
        "          checkpoint = {\n",
        "              \"state_dict\": model.state_dict(),\n",
        "              \"optimizer\": optimizer.state_dict(),\n",
        "          }\n",
        "          save_checkpoint(checkpoint, filename=CHECKPOINT_FILE)"
      ],
      "execution_count": null,
      "outputs": []
    },
    {
      "cell_type": "code",
      "metadata": {
        "colab": {
          "base_uri": "https://localhost:8080/"
        },
        "id": "aO_6o4eTq2qC",
        "outputId": "b29a39b8-bbbe-402b-9193-9f4db9766c8a"
      },
      "source": [
        "if __name__==\"__main__\":\n",
        "  main()"
      ],
      "execution_count": null,
      "outputs": [
        {
          "output_type": "stream",
          "name": "stderr",
          "text": [
            "/usr/local/lib/python3.7/dist-packages/torch/utils/data/dataloader.py:481: UserWarning: This DataLoader will create 4 worker processes in total. Our suggested max number of worker in current system is 2, which is smaller than what this DataLoader is going to create. Please be aware that excessive worker creation might get DataLoader running slow or even freeze, lower the worker number to avoid potential slowness/freeze if necessary.\n",
            "  cpuset_checked))\n"
          ]
        },
        {
          "output_type": "stream",
          "name": "stdout",
          "text": [
            "Loaded pretrained weights for efficientnet-b0\n",
            "Loaded pretrained weights for efficientnet-b0\n",
            "Loaded pretrained weights for efficientnet-b0\n"
          ]
        },
        {
          "output_type": "stream",
          "name": "stderr",
          "text": [
            "100%|██████████| 111/111 [01:04<00:00,  1.72it/s]\n"
          ]
        },
        {
          "output_type": "stream",
          "name": "stdout",
          "text": [
            "Loss average over epoch: 50.23811693679932\n",
            "=> Saving checkpoint /content/gdrive/MyDrive/Colab Notebooks/LanguageTranslationModel/my_checkpoint_B0.pth.tar\n"
          ]
        },
        {
          "output_type": "stream",
          "name": "stderr",
          "text": [
            "100%|██████████| 111/111 [01:03<00:00,  1.75it/s]\n"
          ]
        },
        {
          "output_type": "stream",
          "name": "stdout",
          "text": [
            "Loss average over epoch: 42.940383482844624\n",
            "=> Saving checkpoint /content/gdrive/MyDrive/Colab Notebooks/LanguageTranslationModel/my_checkpoint_B0.pth.tar\n"
          ]
        },
        {
          "output_type": "stream",
          "name": "stderr",
          "text": [
            "100%|██████████| 111/111 [01:03<00:00,  1.75it/s]\n"
          ]
        },
        {
          "output_type": "stream",
          "name": "stdout",
          "text": [
            "Loss average over epoch: 38.45925059932506\n",
            "=> Saving checkpoint /content/gdrive/MyDrive/Colab Notebooks/LanguageTranslationModel/my_checkpoint_B0.pth.tar\n"
          ]
        },
        {
          "output_type": "stream",
          "name": "stderr",
          "text": [
            "100%|██████████| 111/111 [01:03<00:00,  1.74it/s]\n"
          ]
        },
        {
          "output_type": "stream",
          "name": "stdout",
          "text": [
            "Loss average over epoch: 34.239427208734504\n",
            "=> Saving checkpoint /content/gdrive/MyDrive/Colab Notebooks/LanguageTranslationModel/my_checkpoint_B0.pth.tar\n"
          ]
        },
        {
          "output_type": "stream",
          "name": "stderr",
          "text": [
            "100%|██████████| 111/111 [01:03<00:00,  1.76it/s]\n"
          ]
        },
        {
          "output_type": "stream",
          "name": "stdout",
          "text": [
            "Loss average over epoch: 31.4103813274733\n",
            "=> Saving checkpoint /content/gdrive/MyDrive/Colab Notebooks/LanguageTranslationModel/my_checkpoint_B0.pth.tar\n"
          ]
        },
        {
          "output_type": "stream",
          "name": "stderr",
          "text": [
            "100%|██████████| 111/111 [01:02<00:00,  1.78it/s]\n"
          ]
        },
        {
          "output_type": "stream",
          "name": "stdout",
          "text": [
            "Loss average over epoch: 27.73318671120903\n",
            "=> Saving checkpoint /content/gdrive/MyDrive/Colab Notebooks/LanguageTranslationModel/my_checkpoint_B0.pth.tar\n"
          ]
        },
        {
          "output_type": "stream",
          "name": "stderr",
          "text": [
            "100%|██████████| 111/111 [01:02<00:00,  1.79it/s]\n"
          ]
        },
        {
          "output_type": "stream",
          "name": "stdout",
          "text": [
            "Loss average over epoch: 20.391544335783532\n",
            "=> Saving checkpoint /content/gdrive/MyDrive/Colab Notebooks/LanguageTranslationModel/my_checkpoint_B0.pth.tar\n"
          ]
        },
        {
          "output_type": "stream",
          "name": "stderr",
          "text": [
            "100%|██████████| 111/111 [01:02<00:00,  1.77it/s]\n"
          ]
        },
        {
          "output_type": "stream",
          "name": "stdout",
          "text": [
            "Loss average over epoch: 15.548388138066741\n",
            "=> Saving checkpoint /content/gdrive/MyDrive/Colab Notebooks/LanguageTranslationModel/my_checkpoint_B0.pth.tar\n"
          ]
        },
        {
          "output_type": "stream",
          "name": "stderr",
          "text": [
            "100%|██████████| 111/111 [01:03<00:00,  1.75it/s]\n"
          ]
        },
        {
          "output_type": "stream",
          "name": "stdout",
          "text": [
            "Loss average over epoch: 12.398937850096345\n",
            "=> Saving checkpoint /content/gdrive/MyDrive/Colab Notebooks/LanguageTranslationModel/my_checkpoint_B0.pth.tar\n"
          ]
        },
        {
          "output_type": "stream",
          "name": "stderr",
          "text": [
            "100%|██████████| 111/111 [01:03<00:00,  1.74it/s]\n"
          ]
        },
        {
          "output_type": "stream",
          "name": "stdout",
          "text": [
            "Loss average over epoch: 10.172324005834133\n",
            "=> Saving checkpoint /content/gdrive/MyDrive/Colab Notebooks/LanguageTranslationModel/my_checkpoint_B0.pth.tar\n"
          ]
        },
        {
          "output_type": "stream",
          "name": "stderr",
          "text": [
            "100%|██████████| 111/111 [01:03<00:00,  1.76it/s]\n"
          ]
        },
        {
          "output_type": "stream",
          "name": "stdout",
          "text": [
            "Loss average over epoch: 8.449201564427064\n",
            "=> Saving checkpoint /content/gdrive/MyDrive/Colab Notebooks/LanguageTranslationModel/my_checkpoint_B0.pth.tar\n"
          ]
        },
        {
          "output_type": "stream",
          "name": "stderr",
          "text": [
            "100%|██████████| 111/111 [01:03<00:00,  1.75it/s]\n"
          ]
        },
        {
          "output_type": "stream",
          "name": "stdout",
          "text": [
            "Loss average over epoch: 7.378880112879581\n",
            "=> Saving checkpoint /content/gdrive/MyDrive/Colab Notebooks/LanguageTranslationModel/my_checkpoint_B0.pth.tar\n"
          ]
        },
        {
          "output_type": "stream",
          "name": "stderr",
          "text": [
            "100%|██████████| 111/111 [01:03<00:00,  1.75it/s]\n"
          ]
        },
        {
          "output_type": "stream",
          "name": "stdout",
          "text": [
            "Loss average over epoch: 6.6098195218419935\n",
            "=> Saving checkpoint /content/gdrive/MyDrive/Colab Notebooks/LanguageTranslationModel/my_checkpoint_B0.pth.tar\n"
          ]
        },
        {
          "output_type": "stream",
          "name": "stderr",
          "text": [
            "100%|██████████| 111/111 [01:02<00:00,  1.79it/s]\n"
          ]
        },
        {
          "output_type": "stream",
          "name": "stdout",
          "text": [
            "Loss average over epoch: 6.027996980673336\n",
            "=> Saving checkpoint /content/gdrive/MyDrive/Colab Notebooks/LanguageTranslationModel/my_checkpoint_B0.pth.tar\n"
          ]
        },
        {
          "output_type": "stream",
          "name": "stderr",
          "text": [
            "100%|██████████| 111/111 [01:02<00:00,  1.76it/s]\n"
          ]
        },
        {
          "output_type": "stream",
          "name": "stdout",
          "text": [
            "Loss average over epoch: 5.708644709056222\n",
            "=> Saving checkpoint /content/gdrive/MyDrive/Colab Notebooks/LanguageTranslationModel/my_checkpoint_B0.pth.tar\n"
          ]
        },
        {
          "output_type": "stream",
          "name": "stderr",
          "text": [
            "100%|██████████| 111/111 [01:04<00:00,  1.72it/s]\n"
          ]
        },
        {
          "output_type": "stream",
          "name": "stdout",
          "text": [
            "Loss average over epoch: 5.4821623349930295\n",
            "=> Saving checkpoint /content/gdrive/MyDrive/Colab Notebooks/LanguageTranslationModel/my_checkpoint_B0.pth.tar\n"
          ]
        },
        {
          "output_type": "stream",
          "name": "stderr",
          "text": [
            "100%|██████████| 111/111 [01:02<00:00,  1.76it/s]\n"
          ]
        },
        {
          "output_type": "stream",
          "name": "stdout",
          "text": [
            "Loss average over epoch: 5.299007744118045\n",
            "=> Saving checkpoint /content/gdrive/MyDrive/Colab Notebooks/LanguageTranslationModel/my_checkpoint_B0.pth.tar\n"
          ]
        },
        {
          "output_type": "stream",
          "name": "stderr",
          "text": [
            "100%|██████████| 111/111 [01:04<00:00,  1.73it/s]\n"
          ]
        },
        {
          "output_type": "stream",
          "name": "stdout",
          "text": [
            "Loss average over epoch: 5.258362395480876\n",
            "=> Saving checkpoint /content/gdrive/MyDrive/Colab Notebooks/LanguageTranslationModel/my_checkpoint_B0.pth.tar\n"
          ]
        },
        {
          "output_type": "stream",
          "name": "stderr",
          "text": [
            "100%|██████████| 111/111 [01:04<00:00,  1.73it/s]\n"
          ]
        },
        {
          "output_type": "stream",
          "name": "stdout",
          "text": [
            "Loss average over epoch: 5.154415355768143\n",
            "=> Saving checkpoint /content/gdrive/MyDrive/Colab Notebooks/LanguageTranslationModel/my_checkpoint_B0.pth.tar\n"
          ]
        },
        {
          "output_type": "stream",
          "name": "stderr",
          "text": [
            "100%|██████████| 111/111 [01:04<00:00,  1.72it/s]\n"
          ]
        },
        {
          "output_type": "stream",
          "name": "stdout",
          "text": [
            "Loss average over epoch: 5.106318199609474\n",
            "=> Saving checkpoint /content/gdrive/MyDrive/Colab Notebooks/LanguageTranslationModel/my_checkpoint_B0.pth.tar\n"
          ]
        },
        {
          "output_type": "stream",
          "name": "stderr",
          "text": [
            "100%|██████████| 111/111 [01:03<00:00,  1.74it/s]\n"
          ]
        },
        {
          "output_type": "stream",
          "name": "stdout",
          "text": [
            "Loss average over epoch: 5.065709069527924\n",
            "=> Saving checkpoint /content/gdrive/MyDrive/Colab Notebooks/LanguageTranslationModel/my_checkpoint_B0.pth.tar\n"
          ]
        },
        {
          "output_type": "stream",
          "name": "stderr",
          "text": [
            "100%|██████████| 111/111 [01:04<00:00,  1.73it/s]\n"
          ]
        },
        {
          "output_type": "stream",
          "name": "stdout",
          "text": [
            "Loss average over epoch: 5.026802118086295\n",
            "=> Saving checkpoint /content/gdrive/MyDrive/Colab Notebooks/LanguageTranslationModel/my_checkpoint_B0.pth.tar\n"
          ]
        },
        {
          "output_type": "stream",
          "name": "stderr",
          "text": [
            "100%|██████████| 111/111 [01:04<00:00,  1.71it/s]\n"
          ]
        },
        {
          "output_type": "stream",
          "name": "stdout",
          "text": [
            "Loss average over epoch: 4.9916700112372405\n",
            "=> Saving checkpoint /content/gdrive/MyDrive/Colab Notebooks/LanguageTranslationModel/my_checkpoint_B0.pth.tar\n"
          ]
        },
        {
          "output_type": "stream",
          "name": "stderr",
          "text": [
            "100%|██████████| 111/111 [01:03<00:00,  1.74it/s]\n"
          ]
        },
        {
          "output_type": "stream",
          "name": "stdout",
          "text": [
            "Loss average over epoch: 4.9970801529855216\n",
            "=> Saving checkpoint /content/gdrive/MyDrive/Colab Notebooks/LanguageTranslationModel/my_checkpoint_B0.pth.tar\n"
          ]
        },
        {
          "output_type": "stream",
          "name": "stderr",
          "text": [
            "100%|██████████| 111/111 [01:02<00:00,  1.77it/s]\n"
          ]
        },
        {
          "output_type": "stream",
          "name": "stdout",
          "text": [
            "Loss average over epoch: 4.970807343752471\n",
            "=> Saving checkpoint /content/gdrive/MyDrive/Colab Notebooks/LanguageTranslationModel/my_checkpoint_B0.pth.tar\n"
          ]
        },
        {
          "output_type": "stream",
          "name": "stderr",
          "text": [
            "100%|██████████| 111/111 [01:03<00:00,  1.75it/s]\n"
          ]
        },
        {
          "output_type": "stream",
          "name": "stdout",
          "text": [
            "Loss average over epoch: 4.94929704453358\n",
            "=> Saving checkpoint /content/gdrive/MyDrive/Colab Notebooks/LanguageTranslationModel/my_checkpoint_B0.pth.tar\n"
          ]
        },
        {
          "output_type": "stream",
          "name": "stderr",
          "text": [
            "100%|██████████| 111/111 [01:03<00:00,  1.76it/s]\n"
          ]
        },
        {
          "output_type": "stream",
          "name": "stdout",
          "text": [
            "Loss average over epoch: 4.91443148679254\n",
            "=> Saving checkpoint /content/gdrive/MyDrive/Colab Notebooks/LanguageTranslationModel/my_checkpoint_B0.pth.tar\n"
          ]
        },
        {
          "output_type": "stream",
          "name": "stderr",
          "text": [
            "100%|██████████| 111/111 [01:02<00:00,  1.76it/s]\n"
          ]
        },
        {
          "output_type": "stream",
          "name": "stdout",
          "text": [
            "Loss average over epoch: 4.887861303512475\n",
            "=> Saving checkpoint /content/gdrive/MyDrive/Colab Notebooks/LanguageTranslationModel/my_checkpoint_B0.pth.tar\n"
          ]
        },
        {
          "output_type": "stream",
          "name": "stderr",
          "text": [
            "100%|██████████| 111/111 [01:03<00:00,  1.76it/s]\n"
          ]
        },
        {
          "output_type": "stream",
          "name": "stdout",
          "text": [
            "Loss average over epoch: 4.852003889372162\n",
            "=> Saving checkpoint /content/gdrive/MyDrive/Colab Notebooks/LanguageTranslationModel/my_checkpoint_B0.pth.tar\n"
          ]
        },
        {
          "output_type": "stream",
          "name": "stderr",
          "text": [
            "100%|██████████| 111/111 [01:03<00:00,  1.75it/s]\n"
          ]
        },
        {
          "output_type": "stream",
          "name": "stdout",
          "text": [
            "Loss average over epoch: 4.776323000811221\n",
            "=> Saving checkpoint /content/gdrive/MyDrive/Colab Notebooks/LanguageTranslationModel/my_checkpoint_B0.pth.tar\n"
          ]
        },
        {
          "output_type": "stream",
          "name": "stderr",
          "text": [
            "100%|██████████| 111/111 [01:04<00:00,  1.72it/s]\n"
          ]
        },
        {
          "output_type": "stream",
          "name": "stdout",
          "text": [
            "Loss average over epoch: 4.822468675836614\n",
            "=> Saving checkpoint /content/gdrive/MyDrive/Colab Notebooks/LanguageTranslationModel/my_checkpoint_B0.pth.tar\n"
          ]
        },
        {
          "output_type": "stream",
          "name": "stderr",
          "text": [
            "100%|██████████| 111/111 [01:05<00:00,  1.70it/s]\n"
          ]
        },
        {
          "output_type": "stream",
          "name": "stdout",
          "text": [
            "Loss average over epoch: 4.741734579691963\n",
            "=> Saving checkpoint /content/gdrive/MyDrive/Colab Notebooks/LanguageTranslationModel/my_checkpoint_B0.pth.tar\n"
          ]
        },
        {
          "output_type": "stream",
          "name": "stderr",
          "text": [
            "100%|██████████| 111/111 [01:03<00:00,  1.74it/s]\n"
          ]
        },
        {
          "output_type": "stream",
          "name": "stdout",
          "text": [
            "Loss average over epoch: 4.72831448560262\n",
            "=> Saving checkpoint /content/gdrive/MyDrive/Colab Notebooks/LanguageTranslationModel/my_checkpoint_B0.pth.tar\n"
          ]
        },
        {
          "output_type": "stream",
          "name": "stderr",
          "text": [
            "100%|██████████| 111/111 [01:03<00:00,  1.75it/s]\n"
          ]
        },
        {
          "output_type": "stream",
          "name": "stdout",
          "text": [
            "Loss average over epoch: 4.594516843550412\n",
            "=> Saving checkpoint /content/gdrive/MyDrive/Colab Notebooks/LanguageTranslationModel/my_checkpoint_B0.pth.tar\n"
          ]
        },
        {
          "output_type": "stream",
          "name": "stderr",
          "text": [
            "100%|██████████| 111/111 [01:03<00:00,  1.75it/s]\n"
          ]
        },
        {
          "output_type": "stream",
          "name": "stdout",
          "text": [
            "Loss average over epoch: 4.570676216717406\n",
            "=> Saving checkpoint /content/gdrive/MyDrive/Colab Notebooks/LanguageTranslationModel/my_checkpoint_B0.pth.tar\n"
          ]
        },
        {
          "output_type": "stream",
          "name": "stderr",
          "text": [
            "100%|██████████| 111/111 [01:03<00:00,  1.76it/s]\n"
          ]
        },
        {
          "output_type": "stream",
          "name": "stdout",
          "text": [
            "Loss average over epoch: 4.461475395829918\n",
            "=> Saving checkpoint /content/gdrive/MyDrive/Colab Notebooks/LanguageTranslationModel/my_checkpoint_B0.pth.tar\n"
          ]
        },
        {
          "output_type": "stream",
          "name": "stderr",
          "text": [
            "100%|██████████| 111/111 [01:03<00:00,  1.75it/s]\n"
          ]
        },
        {
          "output_type": "stream",
          "name": "stdout",
          "text": [
            "Loss average over epoch: 4.370734804409021\n",
            "=> Saving checkpoint /content/gdrive/MyDrive/Colab Notebooks/LanguageTranslationModel/my_checkpoint_B0.pth.tar\n"
          ]
        },
        {
          "output_type": "stream",
          "name": "stderr",
          "text": [
            "100%|██████████| 111/111 [01:04<00:00,  1.73it/s]\n"
          ]
        },
        {
          "output_type": "stream",
          "name": "stdout",
          "text": [
            "Loss average over epoch: 4.276034939894167\n",
            "=> Saving checkpoint /content/gdrive/MyDrive/Colab Notebooks/LanguageTranslationModel/my_checkpoint_B0.pth.tar\n"
          ]
        },
        {
          "output_type": "stream",
          "name": "stderr",
          "text": [
            "100%|██████████| 111/111 [01:03<00:00,  1.74it/s]\n"
          ]
        },
        {
          "output_type": "stream",
          "name": "stdout",
          "text": [
            "Loss average over epoch: 4.151996486978744\n",
            "=> Saving checkpoint /content/gdrive/MyDrive/Colab Notebooks/LanguageTranslationModel/my_checkpoint_B0.pth.tar\n"
          ]
        },
        {
          "output_type": "stream",
          "name": "stderr",
          "text": [
            "100%|██████████| 111/111 [01:03<00:00,  1.76it/s]\n"
          ]
        },
        {
          "output_type": "stream",
          "name": "stdout",
          "text": [
            "Loss average over epoch: 4.0692491832529925\n",
            "=> Saving checkpoint /content/gdrive/MyDrive/Colab Notebooks/LanguageTranslationModel/my_checkpoint_B0.pth.tar\n"
          ]
        },
        {
          "output_type": "stream",
          "name": "stderr",
          "text": [
            "100%|██████████| 111/111 [01:03<00:00,  1.74it/s]\n"
          ]
        },
        {
          "output_type": "stream",
          "name": "stdout",
          "text": [
            "Loss average over epoch: 4.026640100214699\n",
            "=> Saving checkpoint /content/gdrive/MyDrive/Colab Notebooks/LanguageTranslationModel/my_checkpoint_B0.pth.tar\n"
          ]
        },
        {
          "output_type": "stream",
          "name": "stderr",
          "text": [
            "100%|██████████| 111/111 [01:03<00:00,  1.75it/s]\n"
          ]
        },
        {
          "output_type": "stream",
          "name": "stdout",
          "text": [
            "Loss average over epoch: 3.942660592657481\n",
            "=> Saving checkpoint /content/gdrive/MyDrive/Colab Notebooks/LanguageTranslationModel/my_checkpoint_B0.pth.tar\n"
          ]
        },
        {
          "output_type": "stream",
          "name": "stderr",
          "text": [
            "100%|██████████| 111/111 [01:04<00:00,  1.73it/s]\n"
          ]
        },
        {
          "output_type": "stream",
          "name": "stdout",
          "text": [
            "Loss average over epoch: 3.904511203359259\n",
            "=> Saving checkpoint /content/gdrive/MyDrive/Colab Notebooks/LanguageTranslationModel/my_checkpoint_B0.pth.tar\n"
          ]
        },
        {
          "output_type": "stream",
          "name": "stderr",
          "text": [
            "100%|██████████| 111/111 [01:04<00:00,  1.72it/s]\n"
          ]
        },
        {
          "output_type": "stream",
          "name": "stdout",
          "text": [
            "Loss average over epoch: 3.882067047732987\n",
            "=> Saving checkpoint /content/gdrive/MyDrive/Colab Notebooks/LanguageTranslationModel/my_checkpoint_B0.pth.tar\n"
          ]
        },
        {
          "output_type": "stream",
          "name": "stderr",
          "text": [
            "100%|██████████| 111/111 [01:03<00:00,  1.74it/s]\n"
          ]
        },
        {
          "output_type": "stream",
          "name": "stdout",
          "text": [
            "Loss average over epoch: 3.744655356277875\n",
            "=> Saving checkpoint /content/gdrive/MyDrive/Colab Notebooks/LanguageTranslationModel/my_checkpoint_B0.pth.tar\n"
          ]
        },
        {
          "output_type": "stream",
          "name": "stderr",
          "text": [
            "100%|██████████| 111/111 [01:04<00:00,  1.73it/s]\n"
          ]
        },
        {
          "output_type": "stream",
          "name": "stdout",
          "text": [
            "Loss average over epoch: 3.659596086223454\n",
            "=> Saving checkpoint /content/gdrive/MyDrive/Colab Notebooks/LanguageTranslationModel/my_checkpoint_B0.pth.tar\n"
          ]
        },
        {
          "output_type": "stream",
          "name": "stderr",
          "text": [
            "100%|██████████| 111/111 [01:03<00:00,  1.74it/s]\n"
          ]
        },
        {
          "output_type": "stream",
          "name": "stdout",
          "text": [
            "Loss average over epoch: 3.5606373247536447\n",
            "=> Saving checkpoint /content/gdrive/MyDrive/Colab Notebooks/LanguageTranslationModel/my_checkpoint_B0.pth.tar\n"
          ]
        },
        {
          "output_type": "stream",
          "name": "stderr",
          "text": [
            "100%|██████████| 111/111 [01:02<00:00,  1.77it/s]\n"
          ]
        },
        {
          "output_type": "stream",
          "name": "stdout",
          "text": [
            "Loss average over epoch: 3.3716234071099906\n",
            "=> Saving checkpoint /content/gdrive/MyDrive/Colab Notebooks/LanguageTranslationModel/my_checkpoint_B0.pth.tar\n"
          ]
        },
        {
          "output_type": "stream",
          "name": "stderr",
          "text": [
            "100%|██████████| 111/111 [01:03<00:00,  1.76it/s]\n"
          ]
        },
        {
          "output_type": "stream",
          "name": "stdout",
          "text": [
            "Loss average over epoch: 3.32558821186362\n",
            "=> Saving checkpoint /content/gdrive/MyDrive/Colab Notebooks/LanguageTranslationModel/my_checkpoint_B0.pth.tar\n"
          ]
        },
        {
          "output_type": "stream",
          "name": "stderr",
          "text": [
            "100%|██████████| 111/111 [01:03<00:00,  1.74it/s]\n"
          ]
        },
        {
          "output_type": "stream",
          "name": "stdout",
          "text": [
            "Loss average over epoch: 3.251345723759361\n",
            "=> Saving checkpoint /content/gdrive/MyDrive/Colab Notebooks/LanguageTranslationModel/my_checkpoint_B0.pth.tar\n"
          ]
        },
        {
          "output_type": "stream",
          "name": "stderr",
          "text": [
            "100%|██████████| 111/111 [01:03<00:00,  1.74it/s]\n"
          ]
        },
        {
          "output_type": "stream",
          "name": "stdout",
          "text": [
            "Loss average over epoch: 3.1606259462154487\n",
            "=> Saving checkpoint /content/gdrive/MyDrive/Colab Notebooks/LanguageTranslationModel/my_checkpoint_B0.pth.tar\n"
          ]
        },
        {
          "output_type": "stream",
          "name": "stderr",
          "text": [
            "100%|██████████| 111/111 [01:03<00:00,  1.74it/s]\n"
          ]
        },
        {
          "output_type": "stream",
          "name": "stdout",
          "text": [
            "Loss average over epoch: 3.1445607571929055\n",
            "=> Saving checkpoint /content/gdrive/MyDrive/Colab Notebooks/LanguageTranslationModel/my_checkpoint_B0.pth.tar\n"
          ]
        },
        {
          "output_type": "stream",
          "name": "stderr",
          "text": [
            "100%|██████████| 111/111 [01:02<00:00,  1.77it/s]\n"
          ]
        },
        {
          "output_type": "stream",
          "name": "stdout",
          "text": [
            "Loss average over epoch: 3.060985321615455\n",
            "=> Saving checkpoint /content/gdrive/MyDrive/Colab Notebooks/LanguageTranslationModel/my_checkpoint_B0.pth.tar\n"
          ]
        },
        {
          "output_type": "stream",
          "name": "stderr",
          "text": [
            "100%|██████████| 111/111 [01:03<00:00,  1.74it/s]\n"
          ]
        },
        {
          "output_type": "stream",
          "name": "stdout",
          "text": [
            "Loss average over epoch: 2.995563646739253\n",
            "=> Saving checkpoint /content/gdrive/MyDrive/Colab Notebooks/LanguageTranslationModel/my_checkpoint_B0.pth.tar\n"
          ]
        },
        {
          "output_type": "stream",
          "name": "stderr",
          "text": [
            "100%|██████████| 111/111 [01:02<00:00,  1.77it/s]\n"
          ]
        },
        {
          "output_type": "stream",
          "name": "stdout",
          "text": [
            "Loss average over epoch: 2.945372195153025\n",
            "=> Saving checkpoint /content/gdrive/MyDrive/Colab Notebooks/LanguageTranslationModel/my_checkpoint_B0.pth.tar\n"
          ]
        },
        {
          "output_type": "stream",
          "name": "stderr",
          "text": [
            "100%|██████████| 111/111 [01:03<00:00,  1.74it/s]\n"
          ]
        },
        {
          "output_type": "stream",
          "name": "stdout",
          "text": [
            "Loss average over epoch: 2.89318272016056\n",
            "=> Saving checkpoint /content/gdrive/MyDrive/Colab Notebooks/LanguageTranslationModel/my_checkpoint_B0.pth.tar\n"
          ]
        },
        {
          "output_type": "stream",
          "name": "stderr",
          "text": [
            "100%|██████████| 111/111 [01:04<00:00,  1.73it/s]\n"
          ]
        },
        {
          "output_type": "stream",
          "name": "stdout",
          "text": [
            "Loss average over epoch: 2.878883514426875\n",
            "=> Saving checkpoint /content/gdrive/MyDrive/Colab Notebooks/LanguageTranslationModel/my_checkpoint_B0.pth.tar\n"
          ]
        },
        {
          "output_type": "stream",
          "name": "stderr",
          "text": [
            "100%|██████████| 111/111 [01:04<00:00,  1.73it/s]\n"
          ]
        },
        {
          "output_type": "stream",
          "name": "stdout",
          "text": [
            "Loss average over epoch: 2.8561007003471888\n",
            "=> Saving checkpoint /content/gdrive/MyDrive/Colab Notebooks/LanguageTranslationModel/my_checkpoint_B0.pth.tar\n"
          ]
        },
        {
          "output_type": "stream",
          "name": "stderr",
          "text": [
            "100%|██████████| 111/111 [01:03<00:00,  1.73it/s]\n"
          ]
        },
        {
          "output_type": "stream",
          "name": "stdout",
          "text": [
            "Loss average over epoch: 2.79269499165323\n",
            "=> Saving checkpoint /content/gdrive/MyDrive/Colab Notebooks/LanguageTranslationModel/my_checkpoint_B0.pth.tar\n"
          ]
        },
        {
          "output_type": "stream",
          "name": "stderr",
          "text": [
            "100%|██████████| 111/111 [01:03<00:00,  1.74it/s]\n"
          ]
        },
        {
          "output_type": "stream",
          "name": "stdout",
          "text": [
            "Loss average over epoch: 2.7769404764717853\n",
            "=> Saving checkpoint /content/gdrive/MyDrive/Colab Notebooks/LanguageTranslationModel/my_checkpoint_B0.pth.tar\n"
          ]
        },
        {
          "output_type": "stream",
          "name": "stderr",
          "text": [
            "100%|██████████| 111/111 [01:04<00:00,  1.72it/s]\n"
          ]
        },
        {
          "output_type": "stream",
          "name": "stdout",
          "text": [
            "Loss average over epoch: 2.7842113929094747\n",
            "=> Saving checkpoint /content/gdrive/MyDrive/Colab Notebooks/LanguageTranslationModel/my_checkpoint_B0.pth.tar\n"
          ]
        },
        {
          "output_type": "stream",
          "name": "stderr",
          "text": [
            "100%|██████████| 111/111 [01:03<00:00,  1.74it/s]\n"
          ]
        },
        {
          "output_type": "stream",
          "name": "stdout",
          "text": [
            "Loss average over epoch: 2.728745376214618\n",
            "=> Saving checkpoint /content/gdrive/MyDrive/Colab Notebooks/LanguageTranslationModel/my_checkpoint_B0.pth.tar\n"
          ]
        },
        {
          "output_type": "stream",
          "name": "stderr",
          "text": [
            "100%|██████████| 111/111 [01:03<00:00,  1.74it/s]\n"
          ]
        },
        {
          "output_type": "stream",
          "name": "stdout",
          "text": [
            "Loss average over epoch: 2.6893521690034836\n",
            "=> Saving checkpoint /content/gdrive/MyDrive/Colab Notebooks/LanguageTranslationModel/my_checkpoint_B0.pth.tar\n"
          ]
        },
        {
          "output_type": "stream",
          "name": "stderr",
          "text": [
            "100%|██████████| 111/111 [01:03<00:00,  1.76it/s]\n"
          ]
        },
        {
          "output_type": "stream",
          "name": "stdout",
          "text": [
            "Loss average over epoch: 2.6807077263201453\n",
            "=> Saving checkpoint /content/gdrive/MyDrive/Colab Notebooks/LanguageTranslationModel/my_checkpoint_B0.pth.tar\n"
          ]
        },
        {
          "output_type": "stream",
          "name": "stderr",
          "text": [
            "100%|██████████| 111/111 [01:03<00:00,  1.74it/s]\n"
          ]
        },
        {
          "output_type": "stream",
          "name": "stdout",
          "text": [
            "Loss average over epoch: 2.669961366159854\n",
            "=> Saving checkpoint /content/gdrive/MyDrive/Colab Notebooks/LanguageTranslationModel/my_checkpoint_B0.pth.tar\n"
          ]
        },
        {
          "output_type": "stream",
          "name": "stderr",
          "text": [
            "100%|██████████| 111/111 [01:04<00:00,  1.73it/s]\n"
          ]
        },
        {
          "output_type": "stream",
          "name": "stdout",
          "text": [
            "Loss average over epoch: 2.6741771728716905\n",
            "=> Saving checkpoint /content/gdrive/MyDrive/Colab Notebooks/LanguageTranslationModel/my_checkpoint_B0.pth.tar\n"
          ]
        },
        {
          "output_type": "stream",
          "name": "stderr",
          "text": [
            "100%|██████████| 111/111 [01:04<00:00,  1.71it/s]\n"
          ]
        },
        {
          "output_type": "stream",
          "name": "stdout",
          "text": [
            "Loss average over epoch: 2.6043277898846675\n",
            "=> Saving checkpoint /content/gdrive/MyDrive/Colab Notebooks/LanguageTranslationModel/my_checkpoint_B0.pth.tar\n"
          ]
        },
        {
          "output_type": "stream",
          "name": "stderr",
          "text": [
            "100%|██████████| 111/111 [01:03<00:00,  1.74it/s]\n"
          ]
        },
        {
          "output_type": "stream",
          "name": "stdout",
          "text": [
            "Loss average over epoch: 2.6119675294797124\n",
            "=> Saving checkpoint /content/gdrive/MyDrive/Colab Notebooks/LanguageTranslationModel/my_checkpoint_B0.pth.tar\n"
          ]
        },
        {
          "output_type": "stream",
          "name": "stderr",
          "text": [
            "100%|██████████| 111/111 [01:03<00:00,  1.74it/s]\n"
          ]
        },
        {
          "output_type": "stream",
          "name": "stdout",
          "text": [
            "Loss average over epoch: 2.6130736078502337\n",
            "=> Saving checkpoint /content/gdrive/MyDrive/Colab Notebooks/LanguageTranslationModel/my_checkpoint_B0.pth.tar\n"
          ]
        },
        {
          "output_type": "stream",
          "name": "stderr",
          "text": [
            "100%|██████████| 111/111 [01:03<00:00,  1.75it/s]\n"
          ]
        },
        {
          "output_type": "stream",
          "name": "stdout",
          "text": [
            "Loss average over epoch: 2.556836050046358\n",
            "=> Saving checkpoint /content/gdrive/MyDrive/Colab Notebooks/LanguageTranslationModel/my_checkpoint_B0.pth.tar\n"
          ]
        },
        {
          "output_type": "stream",
          "name": "stderr",
          "text": [
            "100%|██████████| 111/111 [01:04<00:00,  1.72it/s]\n"
          ]
        },
        {
          "output_type": "stream",
          "name": "stdout",
          "text": [
            "Loss average over epoch: 2.552450266941861\n",
            "=> Saving checkpoint /content/gdrive/MyDrive/Colab Notebooks/LanguageTranslationModel/my_checkpoint_B0.pth.tar\n"
          ]
        },
        {
          "output_type": "stream",
          "name": "stderr",
          "text": [
            "100%|██████████| 111/111 [01:04<00:00,  1.72it/s]\n"
          ]
        },
        {
          "output_type": "stream",
          "name": "stdout",
          "text": [
            "Loss average over epoch: 2.50519895693916\n",
            "=> Saving checkpoint /content/gdrive/MyDrive/Colab Notebooks/LanguageTranslationModel/my_checkpoint_B0.pth.tar\n"
          ]
        },
        {
          "output_type": "stream",
          "name": "stderr",
          "text": [
            "100%|██████████| 111/111 [01:03<00:00,  1.75it/s]\n"
          ]
        },
        {
          "output_type": "stream",
          "name": "stdout",
          "text": [
            "Loss average over epoch: 2.5108127599732883\n",
            "=> Saving checkpoint /content/gdrive/MyDrive/Colab Notebooks/LanguageTranslationModel/my_checkpoint_B0.pth.tar\n"
          ]
        },
        {
          "output_type": "stream",
          "name": "stderr",
          "text": [
            "100%|██████████| 111/111 [01:04<00:00,  1.72it/s]\n"
          ]
        },
        {
          "output_type": "stream",
          "name": "stdout",
          "text": [
            "Loss average over epoch: 2.509570939994527\n",
            "=> Saving checkpoint /content/gdrive/MyDrive/Colab Notebooks/LanguageTranslationModel/my_checkpoint_B0.pth.tar\n"
          ]
        },
        {
          "output_type": "stream",
          "name": "stderr",
          "text": [
            "100%|██████████| 111/111 [01:03<00:00,  1.74it/s]\n"
          ]
        },
        {
          "output_type": "stream",
          "name": "stdout",
          "text": [
            "Loss average over epoch: 2.4852470883603637\n",
            "=> Saving checkpoint /content/gdrive/MyDrive/Colab Notebooks/LanguageTranslationModel/my_checkpoint_B0.pth.tar\n"
          ]
        },
        {
          "output_type": "stream",
          "name": "stderr",
          "text": [
            "100%|██████████| 111/111 [01:02<00:00,  1.77it/s]\n"
          ]
        },
        {
          "output_type": "stream",
          "name": "stdout",
          "text": [
            "Loss average over epoch: 2.4758928284998194\n",
            "=> Saving checkpoint /content/gdrive/MyDrive/Colab Notebooks/LanguageTranslationModel/my_checkpoint_B0.pth.tar\n"
          ]
        },
        {
          "output_type": "stream",
          "name": "stderr",
          "text": [
            "100%|██████████| 111/111 [01:03<00:00,  1.75it/s]\n"
          ]
        },
        {
          "output_type": "stream",
          "name": "stdout",
          "text": [
            "Loss average over epoch: 2.4782770138500534\n",
            "=> Saving checkpoint /content/gdrive/MyDrive/Colab Notebooks/LanguageTranslationModel/my_checkpoint_B0.pth.tar\n"
          ]
        },
        {
          "output_type": "stream",
          "name": "stderr",
          "text": [
            "100%|██████████| 111/111 [01:03<00:00,  1.76it/s]\n"
          ]
        },
        {
          "output_type": "stream",
          "name": "stdout",
          "text": [
            "Loss average over epoch: 2.4279346929334364\n",
            "=> Saving checkpoint /content/gdrive/MyDrive/Colab Notebooks/LanguageTranslationModel/my_checkpoint_B0.pth.tar\n"
          ]
        },
        {
          "output_type": "stream",
          "name": "stderr",
          "text": [
            "100%|██████████| 111/111 [01:03<00:00,  1.74it/s]\n"
          ]
        },
        {
          "output_type": "stream",
          "name": "stdout",
          "text": [
            "Loss average over epoch: 2.439815232928488\n",
            "=> Saving checkpoint /content/gdrive/MyDrive/Colab Notebooks/LanguageTranslationModel/my_checkpoint_B0.pth.tar\n"
          ]
        },
        {
          "output_type": "stream",
          "name": "stderr",
          "text": [
            "100%|██████████| 111/111 [01:03<00:00,  1.75it/s]\n"
          ]
        },
        {
          "output_type": "stream",
          "name": "stdout",
          "text": [
            "Loss average over epoch: 2.4148352089713003\n",
            "=> Saving checkpoint /content/gdrive/MyDrive/Colab Notebooks/LanguageTranslationModel/my_checkpoint_B0.pth.tar\n"
          ]
        },
        {
          "output_type": "stream",
          "name": "stderr",
          "text": [
            "100%|██████████| 111/111 [01:03<00:00,  1.74it/s]\n"
          ]
        },
        {
          "output_type": "stream",
          "name": "stdout",
          "text": [
            "Loss average over epoch: 2.4072492064439683\n",
            "=> Saving checkpoint /content/gdrive/MyDrive/Colab Notebooks/LanguageTranslationModel/my_checkpoint_B0.pth.tar\n"
          ]
        },
        {
          "output_type": "stream",
          "name": "stderr",
          "text": [
            "100%|██████████| 111/111 [01:02<00:00,  1.77it/s]\n"
          ]
        },
        {
          "output_type": "stream",
          "name": "stdout",
          "text": [
            "Loss average over epoch: 2.4002101905111624\n",
            "=> Saving checkpoint /content/gdrive/MyDrive/Colab Notebooks/LanguageTranslationModel/my_checkpoint_B0.pth.tar\n"
          ]
        },
        {
          "output_type": "stream",
          "name": "stderr",
          "text": [
            "100%|██████████| 111/111 [01:01<00:00,  1.80it/s]\n"
          ]
        },
        {
          "output_type": "stream",
          "name": "stdout",
          "text": [
            "Loss average over epoch: 2.400097928309294\n",
            "=> Saving checkpoint /content/gdrive/MyDrive/Colab Notebooks/LanguageTranslationModel/my_checkpoint_B0.pth.tar\n"
          ]
        },
        {
          "output_type": "stream",
          "name": "stderr",
          "text": [
            "100%|██████████| 111/111 [01:02<00:00,  1.78it/s]\n"
          ]
        },
        {
          "output_type": "stream",
          "name": "stdout",
          "text": [
            "Loss average over epoch: 2.374475112747948\n",
            "=> Saving checkpoint /content/gdrive/MyDrive/Colab Notebooks/LanguageTranslationModel/my_checkpoint_B0.pth.tar\n"
          ]
        },
        {
          "output_type": "stream",
          "name": "stderr",
          "text": [
            "100%|██████████| 111/111 [01:01<00:00,  1.79it/s]\n"
          ]
        },
        {
          "output_type": "stream",
          "name": "stdout",
          "text": [
            "Loss average over epoch: 2.3534374385272483\n",
            "=> Saving checkpoint /content/gdrive/MyDrive/Colab Notebooks/LanguageTranslationModel/my_checkpoint_B0.pth.tar\n"
          ]
        },
        {
          "output_type": "stream",
          "name": "stderr",
          "text": [
            "100%|██████████| 111/111 [01:02<00:00,  1.79it/s]\n"
          ]
        },
        {
          "output_type": "stream",
          "name": "stdout",
          "text": [
            "Loss average over epoch: 2.371757486415702\n",
            "=> Saving checkpoint /content/gdrive/MyDrive/Colab Notebooks/LanguageTranslationModel/my_checkpoint_B0.pth.tar\n"
          ]
        },
        {
          "output_type": "stream",
          "name": "stderr",
          "text": [
            "100%|██████████| 111/111 [01:01<00:00,  1.79it/s]\n"
          ]
        },
        {
          "output_type": "stream",
          "name": "stdout",
          "text": [
            "Loss average over epoch: 2.3436636100686434\n",
            "=> Saving checkpoint /content/gdrive/MyDrive/Colab Notebooks/LanguageTranslationModel/my_checkpoint_B0.pth.tar\n"
          ]
        },
        {
          "output_type": "stream",
          "name": "stderr",
          "text": [
            "100%|██████████| 111/111 [01:02<00:00,  1.78it/s]\n"
          ]
        },
        {
          "output_type": "stream",
          "name": "stdout",
          "text": [
            "Loss average over epoch: 2.3266641930330225\n",
            "=> Saving checkpoint /content/gdrive/MyDrive/Colab Notebooks/LanguageTranslationModel/my_checkpoint_B0.pth.tar\n"
          ]
        },
        {
          "output_type": "stream",
          "name": "stderr",
          "text": [
            "100%|██████████| 111/111 [01:04<00:00,  1.72it/s]\n"
          ]
        },
        {
          "output_type": "stream",
          "name": "stdout",
          "text": [
            "Loss average over epoch: 2.3046883491165007\n",
            "=> Saving checkpoint /content/gdrive/MyDrive/Colab Notebooks/LanguageTranslationModel/my_checkpoint_B0.pth.tar\n"
          ]
        },
        {
          "output_type": "stream",
          "name": "stderr",
          "text": [
            "100%|██████████| 111/111 [01:04<00:00,  1.72it/s]\n"
          ]
        },
        {
          "output_type": "stream",
          "name": "stdout",
          "text": [
            "Loss average over epoch: 2.277614490748972\n",
            "=> Saving checkpoint /content/gdrive/MyDrive/Colab Notebooks/LanguageTranslationModel/my_checkpoint_B0.pth.tar\n"
          ]
        },
        {
          "output_type": "stream",
          "name": "stderr",
          "text": [
            "100%|██████████| 111/111 [01:03<00:00,  1.75it/s]\n"
          ]
        },
        {
          "output_type": "stream",
          "name": "stdout",
          "text": [
            "Loss average over epoch: 2.2818406170199177\n",
            "=> Saving checkpoint /content/gdrive/MyDrive/Colab Notebooks/LanguageTranslationModel/my_checkpoint_B0.pth.tar\n"
          ]
        },
        {
          "output_type": "stream",
          "name": "stderr",
          "text": [
            "100%|██████████| 111/111 [01:04<00:00,  1.73it/s]\n"
          ]
        },
        {
          "output_type": "stream",
          "name": "stdout",
          "text": [
            "Loss average over epoch: 2.2758773053686716\n",
            "=> Saving checkpoint /content/gdrive/MyDrive/Colab Notebooks/LanguageTranslationModel/my_checkpoint_B0.pth.tar\n"
          ]
        },
        {
          "output_type": "stream",
          "name": "stderr",
          "text": [
            "100%|██████████| 111/111 [01:05<00:00,  1.70it/s]\n"
          ]
        },
        {
          "output_type": "stream",
          "name": "stdout",
          "text": [
            "Loss average over epoch: 2.326881139004911\n",
            "=> Saving checkpoint /content/gdrive/MyDrive/Colab Notebooks/LanguageTranslationModel/my_checkpoint_B0.pth.tar\n"
          ]
        },
        {
          "output_type": "stream",
          "name": "stderr",
          "text": [
            "100%|██████████| 111/111 [01:04<00:00,  1.71it/s]\n"
          ]
        },
        {
          "output_type": "stream",
          "name": "stdout",
          "text": [
            "Loss average over epoch: 2.2712113587380287\n",
            "=> Saving checkpoint /content/gdrive/MyDrive/Colab Notebooks/LanguageTranslationModel/my_checkpoint_B0.pth.tar\n"
          ]
        },
        {
          "output_type": "stream",
          "name": "stderr",
          "text": [
            "100%|██████████| 111/111 [01:05<00:00,  1.71it/s]\n"
          ]
        },
        {
          "output_type": "stream",
          "name": "stdout",
          "text": [
            "Loss average over epoch: 2.285096528744637\n",
            "=> Saving checkpoint /content/gdrive/MyDrive/Colab Notebooks/LanguageTranslationModel/my_checkpoint_B0.pth.tar\n"
          ]
        },
        {
          "output_type": "stream",
          "name": "stderr",
          "text": [
            "100%|██████████| 111/111 [01:05<00:00,  1.69it/s]\n"
          ]
        },
        {
          "output_type": "stream",
          "name": "stdout",
          "text": [
            "Loss average over epoch: 2.211538793031729\n",
            "=> Saving checkpoint /content/gdrive/MyDrive/Colab Notebooks/LanguageTranslationModel/my_checkpoint_B0.pth.tar\n"
          ]
        },
        {
          "output_type": "stream",
          "name": "stderr",
          "text": [
            "100%|██████████| 111/111 [01:05<00:00,  1.71it/s]\n"
          ]
        },
        {
          "output_type": "stream",
          "name": "stdout",
          "text": [
            "Loss average over epoch: 2.2448059243077534\n",
            "=> Saving checkpoint /content/gdrive/MyDrive/Colab Notebooks/LanguageTranslationModel/my_checkpoint_B0.pth.tar\n"
          ]
        },
        {
          "output_type": "stream",
          "name": "stderr",
          "text": [
            "100%|██████████| 111/111 [01:05<00:00,  1.68it/s]\n"
          ]
        },
        {
          "output_type": "stream",
          "name": "stdout",
          "text": [
            "Loss average over epoch: 2.2136588218757733\n",
            "=> Saving checkpoint /content/gdrive/MyDrive/Colab Notebooks/LanguageTranslationModel/my_checkpoint_B0.pth.tar\n"
          ]
        },
        {
          "output_type": "stream",
          "name": "stderr",
          "text": [
            "100%|██████████| 111/111 [01:04<00:00,  1.72it/s]\n"
          ]
        },
        {
          "output_type": "stream",
          "name": "stdout",
          "text": [
            "Loss average over epoch: 2.233321815351684\n",
            "=> Saving checkpoint /content/gdrive/MyDrive/Colab Notebooks/LanguageTranslationModel/my_checkpoint_B0.pth.tar\n"
          ]
        },
        {
          "output_type": "stream",
          "name": "stderr",
          "text": [
            "100%|██████████| 111/111 [01:03<00:00,  1.73it/s]\n"
          ]
        },
        {
          "output_type": "stream",
          "name": "stdout",
          "text": [
            "Loss average over epoch: 2.2627817882467527\n",
            "=> Saving checkpoint /content/gdrive/MyDrive/Colab Notebooks/LanguageTranslationModel/my_checkpoint_B0.pth.tar\n"
          ]
        }
      ]
    },
    {
      "cell_type": "code",
      "metadata": {
        "id": "B_cnZDO7q25W"
      },
      "source": [
        ""
      ],
      "execution_count": null,
      "outputs": []
    },
    {
      "cell_type": "code",
      "metadata": {
        "id": "Kdr8lzZNYHxV"
      },
      "source": [
        "for idx, (x, y) in enumerate(loader):\n",
        "      print('x',x.shape,'y',y.shape)#x torch.Size([1-->batch, 3-->channel, 96, 96]) y torch.Size([1, 30-->labels])\n",
        "      print(y[0][0::2])\n",
        "      break\n",
        "    #     plt.imshow(x[0][0].detach().cpu().numpy(), cmap='gray')\n",
        "    #     plt.plot(y[0][0::2].detach().cpu().numpy(), y[0][1::2].detach().cpu().numpy(), \"go\")\n",
        "    #     plt.show()"
      ],
      "execution_count": null,
      "outputs": []
    },
    {
      "cell_type": "code",
      "metadata": {
        "id": "FeP4TFA5it6j",
        "colab": {
          "base_uri": "https://localhost:8080/"
        },
        "outputId": "7e305c43-0cc8-4d78-f26d-e93825c59d78"
      },
      "source": [
        "#testing\n",
        "test_ds = facialDataset(\n",
        "        csv_file=\"/content/gdrive/MyDrive/Colab Notebooks/LanguageTranslationModel/test.csv\",\n",
        "        train=False,\n",
        "        transform=val_transforms,\n",
        "    )\n",
        "test_loader = DataLoader(\n",
        "    test_ds,\n",
        "    batch_size=1,#just for checking\n",
        "    num_workers=NUM_WORKERS,\n",
        "    pin_memory=PIN_MEMORY,\n",
        "    shuffle=True,\n",
        ")"
      ],
      "execution_count": null,
      "outputs": [
        {
          "output_type": "stream",
          "name": "stderr",
          "text": [
            "/usr/local/lib/python3.7/dist-packages/torch/utils/data/dataloader.py:481: UserWarning: This DataLoader will create 4 worker processes in total. Our suggested max number of worker in current system is 2, which is smaller than what this DataLoader is going to create. Please be aware that excessive worker creation might get DataLoader running slow or even freeze, lower the worker number to avoid potential slowness/freeze if necessary.\n",
            "  cpuset_checked))\n"
          ]
        }
      ]
    },
    {
      "cell_type": "code",
      "metadata": {
        "colab": {
          "base_uri": "https://localhost:8080/"
        },
        "id": "Zxwa-i4Rm_CV",
        "outputId": "2f9a81fa-e410-4ac2-e8bf-4a48ae265832"
      },
      "source": [
        "model = EfficientNet.from_pretrained(\"efficientnet-b0\")\n",
        "model._fc = nn.Linear(1280, 30)#output of efficientnet is of size of 1280 and 30 is the total labels\n",
        "model = model.to(DEVICE)\n",
        "optimizer = optim.Adam(model.parameters(), lr=LEARNING_RATE, weight_decay=WEIGHT_DECAY)\n",
        "scaler = torch.cuda.amp.GradScaler()\n",
        "checkpoint=torch.load(r\"/content/gdrive/MyDrive/Colab Notebooks/LanguageTranslationModel/my_checkpoint_B0.pth.tar\")\n",
        "model.load_state_dict(checkpoint[\"state_dict\"])\n",
        "model.eval()"
      ],
      "execution_count": null,
      "outputs": [
        {
          "output_type": "stream",
          "name": "stdout",
          "text": [
            "Loaded pretrained weights for efficientnet-b0\n"
          ]
        },
        {
          "output_type": "execute_result",
          "data": {
            "text/plain": [
              "EfficientNet(\n",
              "  (_conv_stem): Conv2dStaticSamePadding(\n",
              "    3, 32, kernel_size=(3, 3), stride=(2, 2), bias=False\n",
              "    (static_padding): ZeroPad2d(padding=(0, 1, 0, 1), value=0.0)\n",
              "  )\n",
              "  (_bn0): BatchNorm2d(32, eps=0.001, momentum=0.010000000000000009, affine=True, track_running_stats=True)\n",
              "  (_blocks): ModuleList(\n",
              "    (0): MBConvBlock(\n",
              "      (_depthwise_conv): Conv2dStaticSamePadding(\n",
              "        32, 32, kernel_size=(3, 3), stride=[1, 1], groups=32, bias=False\n",
              "        (static_padding): ZeroPad2d(padding=(1, 1, 1, 1), value=0.0)\n",
              "      )\n",
              "      (_bn1): BatchNorm2d(32, eps=0.001, momentum=0.010000000000000009, affine=True, track_running_stats=True)\n",
              "      (_se_reduce): Conv2dStaticSamePadding(\n",
              "        32, 8, kernel_size=(1, 1), stride=(1, 1)\n",
              "        (static_padding): Identity()\n",
              "      )\n",
              "      (_se_expand): Conv2dStaticSamePadding(\n",
              "        8, 32, kernel_size=(1, 1), stride=(1, 1)\n",
              "        (static_padding): Identity()\n",
              "      )\n",
              "      (_project_conv): Conv2dStaticSamePadding(\n",
              "        32, 16, kernel_size=(1, 1), stride=(1, 1), bias=False\n",
              "        (static_padding): Identity()\n",
              "      )\n",
              "      (_bn2): BatchNorm2d(16, eps=0.001, momentum=0.010000000000000009, affine=True, track_running_stats=True)\n",
              "      (_swish): MemoryEfficientSwish()\n",
              "    )\n",
              "    (1): MBConvBlock(\n",
              "      (_expand_conv): Conv2dStaticSamePadding(\n",
              "        16, 96, kernel_size=(1, 1), stride=(1, 1), bias=False\n",
              "        (static_padding): Identity()\n",
              "      )\n",
              "      (_bn0): BatchNorm2d(96, eps=0.001, momentum=0.010000000000000009, affine=True, track_running_stats=True)\n",
              "      (_depthwise_conv): Conv2dStaticSamePadding(\n",
              "        96, 96, kernel_size=(3, 3), stride=[2, 2], groups=96, bias=False\n",
              "        (static_padding): ZeroPad2d(padding=(0, 1, 0, 1), value=0.0)\n",
              "      )\n",
              "      (_bn1): BatchNorm2d(96, eps=0.001, momentum=0.010000000000000009, affine=True, track_running_stats=True)\n",
              "      (_se_reduce): Conv2dStaticSamePadding(\n",
              "        96, 4, kernel_size=(1, 1), stride=(1, 1)\n",
              "        (static_padding): Identity()\n",
              "      )\n",
              "      (_se_expand): Conv2dStaticSamePadding(\n",
              "        4, 96, kernel_size=(1, 1), stride=(1, 1)\n",
              "        (static_padding): Identity()\n",
              "      )\n",
              "      (_project_conv): Conv2dStaticSamePadding(\n",
              "        96, 24, kernel_size=(1, 1), stride=(1, 1), bias=False\n",
              "        (static_padding): Identity()\n",
              "      )\n",
              "      (_bn2): BatchNorm2d(24, eps=0.001, momentum=0.010000000000000009, affine=True, track_running_stats=True)\n",
              "      (_swish): MemoryEfficientSwish()\n",
              "    )\n",
              "    (2): MBConvBlock(\n",
              "      (_expand_conv): Conv2dStaticSamePadding(\n",
              "        24, 144, kernel_size=(1, 1), stride=(1, 1), bias=False\n",
              "        (static_padding): Identity()\n",
              "      )\n",
              "      (_bn0): BatchNorm2d(144, eps=0.001, momentum=0.010000000000000009, affine=True, track_running_stats=True)\n",
              "      (_depthwise_conv): Conv2dStaticSamePadding(\n",
              "        144, 144, kernel_size=(3, 3), stride=(1, 1), groups=144, bias=False\n",
              "        (static_padding): ZeroPad2d(padding=(1, 1, 1, 1), value=0.0)\n",
              "      )\n",
              "      (_bn1): BatchNorm2d(144, eps=0.001, momentum=0.010000000000000009, affine=True, track_running_stats=True)\n",
              "      (_se_reduce): Conv2dStaticSamePadding(\n",
              "        144, 6, kernel_size=(1, 1), stride=(1, 1)\n",
              "        (static_padding): Identity()\n",
              "      )\n",
              "      (_se_expand): Conv2dStaticSamePadding(\n",
              "        6, 144, kernel_size=(1, 1), stride=(1, 1)\n",
              "        (static_padding): Identity()\n",
              "      )\n",
              "      (_project_conv): Conv2dStaticSamePadding(\n",
              "        144, 24, kernel_size=(1, 1), stride=(1, 1), bias=False\n",
              "        (static_padding): Identity()\n",
              "      )\n",
              "      (_bn2): BatchNorm2d(24, eps=0.001, momentum=0.010000000000000009, affine=True, track_running_stats=True)\n",
              "      (_swish): MemoryEfficientSwish()\n",
              "    )\n",
              "    (3): MBConvBlock(\n",
              "      (_expand_conv): Conv2dStaticSamePadding(\n",
              "        24, 144, kernel_size=(1, 1), stride=(1, 1), bias=False\n",
              "        (static_padding): Identity()\n",
              "      )\n",
              "      (_bn0): BatchNorm2d(144, eps=0.001, momentum=0.010000000000000009, affine=True, track_running_stats=True)\n",
              "      (_depthwise_conv): Conv2dStaticSamePadding(\n",
              "        144, 144, kernel_size=(5, 5), stride=[2, 2], groups=144, bias=False\n",
              "        (static_padding): ZeroPad2d(padding=(1, 2, 1, 2), value=0.0)\n",
              "      )\n",
              "      (_bn1): BatchNorm2d(144, eps=0.001, momentum=0.010000000000000009, affine=True, track_running_stats=True)\n",
              "      (_se_reduce): Conv2dStaticSamePadding(\n",
              "        144, 6, kernel_size=(1, 1), stride=(1, 1)\n",
              "        (static_padding): Identity()\n",
              "      )\n",
              "      (_se_expand): Conv2dStaticSamePadding(\n",
              "        6, 144, kernel_size=(1, 1), stride=(1, 1)\n",
              "        (static_padding): Identity()\n",
              "      )\n",
              "      (_project_conv): Conv2dStaticSamePadding(\n",
              "        144, 40, kernel_size=(1, 1), stride=(1, 1), bias=False\n",
              "        (static_padding): Identity()\n",
              "      )\n",
              "      (_bn2): BatchNorm2d(40, eps=0.001, momentum=0.010000000000000009, affine=True, track_running_stats=True)\n",
              "      (_swish): MemoryEfficientSwish()\n",
              "    )\n",
              "    (4): MBConvBlock(\n",
              "      (_expand_conv): Conv2dStaticSamePadding(\n",
              "        40, 240, kernel_size=(1, 1), stride=(1, 1), bias=False\n",
              "        (static_padding): Identity()\n",
              "      )\n",
              "      (_bn0): BatchNorm2d(240, eps=0.001, momentum=0.010000000000000009, affine=True, track_running_stats=True)\n",
              "      (_depthwise_conv): Conv2dStaticSamePadding(\n",
              "        240, 240, kernel_size=(5, 5), stride=(1, 1), groups=240, bias=False\n",
              "        (static_padding): ZeroPad2d(padding=(2, 2, 2, 2), value=0.0)\n",
              "      )\n",
              "      (_bn1): BatchNorm2d(240, eps=0.001, momentum=0.010000000000000009, affine=True, track_running_stats=True)\n",
              "      (_se_reduce): Conv2dStaticSamePadding(\n",
              "        240, 10, kernel_size=(1, 1), stride=(1, 1)\n",
              "        (static_padding): Identity()\n",
              "      )\n",
              "      (_se_expand): Conv2dStaticSamePadding(\n",
              "        10, 240, kernel_size=(1, 1), stride=(1, 1)\n",
              "        (static_padding): Identity()\n",
              "      )\n",
              "      (_project_conv): Conv2dStaticSamePadding(\n",
              "        240, 40, kernel_size=(1, 1), stride=(1, 1), bias=False\n",
              "        (static_padding): Identity()\n",
              "      )\n",
              "      (_bn2): BatchNorm2d(40, eps=0.001, momentum=0.010000000000000009, affine=True, track_running_stats=True)\n",
              "      (_swish): MemoryEfficientSwish()\n",
              "    )\n",
              "    (5): MBConvBlock(\n",
              "      (_expand_conv): Conv2dStaticSamePadding(\n",
              "        40, 240, kernel_size=(1, 1), stride=(1, 1), bias=False\n",
              "        (static_padding): Identity()\n",
              "      )\n",
              "      (_bn0): BatchNorm2d(240, eps=0.001, momentum=0.010000000000000009, affine=True, track_running_stats=True)\n",
              "      (_depthwise_conv): Conv2dStaticSamePadding(\n",
              "        240, 240, kernel_size=(3, 3), stride=[2, 2], groups=240, bias=False\n",
              "        (static_padding): ZeroPad2d(padding=(0, 1, 0, 1), value=0.0)\n",
              "      )\n",
              "      (_bn1): BatchNorm2d(240, eps=0.001, momentum=0.010000000000000009, affine=True, track_running_stats=True)\n",
              "      (_se_reduce): Conv2dStaticSamePadding(\n",
              "        240, 10, kernel_size=(1, 1), stride=(1, 1)\n",
              "        (static_padding): Identity()\n",
              "      )\n",
              "      (_se_expand): Conv2dStaticSamePadding(\n",
              "        10, 240, kernel_size=(1, 1), stride=(1, 1)\n",
              "        (static_padding): Identity()\n",
              "      )\n",
              "      (_project_conv): Conv2dStaticSamePadding(\n",
              "        240, 80, kernel_size=(1, 1), stride=(1, 1), bias=False\n",
              "        (static_padding): Identity()\n",
              "      )\n",
              "      (_bn2): BatchNorm2d(80, eps=0.001, momentum=0.010000000000000009, affine=True, track_running_stats=True)\n",
              "      (_swish): MemoryEfficientSwish()\n",
              "    )\n",
              "    (6): MBConvBlock(\n",
              "      (_expand_conv): Conv2dStaticSamePadding(\n",
              "        80, 480, kernel_size=(1, 1), stride=(1, 1), bias=False\n",
              "        (static_padding): Identity()\n",
              "      )\n",
              "      (_bn0): BatchNorm2d(480, eps=0.001, momentum=0.010000000000000009, affine=True, track_running_stats=True)\n",
              "      (_depthwise_conv): Conv2dStaticSamePadding(\n",
              "        480, 480, kernel_size=(3, 3), stride=(1, 1), groups=480, bias=False\n",
              "        (static_padding): ZeroPad2d(padding=(1, 1, 1, 1), value=0.0)\n",
              "      )\n",
              "      (_bn1): BatchNorm2d(480, eps=0.001, momentum=0.010000000000000009, affine=True, track_running_stats=True)\n",
              "      (_se_reduce): Conv2dStaticSamePadding(\n",
              "        480, 20, kernel_size=(1, 1), stride=(1, 1)\n",
              "        (static_padding): Identity()\n",
              "      )\n",
              "      (_se_expand): Conv2dStaticSamePadding(\n",
              "        20, 480, kernel_size=(1, 1), stride=(1, 1)\n",
              "        (static_padding): Identity()\n",
              "      )\n",
              "      (_project_conv): Conv2dStaticSamePadding(\n",
              "        480, 80, kernel_size=(1, 1), stride=(1, 1), bias=False\n",
              "        (static_padding): Identity()\n",
              "      )\n",
              "      (_bn2): BatchNorm2d(80, eps=0.001, momentum=0.010000000000000009, affine=True, track_running_stats=True)\n",
              "      (_swish): MemoryEfficientSwish()\n",
              "    )\n",
              "    (7): MBConvBlock(\n",
              "      (_expand_conv): Conv2dStaticSamePadding(\n",
              "        80, 480, kernel_size=(1, 1), stride=(1, 1), bias=False\n",
              "        (static_padding): Identity()\n",
              "      )\n",
              "      (_bn0): BatchNorm2d(480, eps=0.001, momentum=0.010000000000000009, affine=True, track_running_stats=True)\n",
              "      (_depthwise_conv): Conv2dStaticSamePadding(\n",
              "        480, 480, kernel_size=(3, 3), stride=(1, 1), groups=480, bias=False\n",
              "        (static_padding): ZeroPad2d(padding=(1, 1, 1, 1), value=0.0)\n",
              "      )\n",
              "      (_bn1): BatchNorm2d(480, eps=0.001, momentum=0.010000000000000009, affine=True, track_running_stats=True)\n",
              "      (_se_reduce): Conv2dStaticSamePadding(\n",
              "        480, 20, kernel_size=(1, 1), stride=(1, 1)\n",
              "        (static_padding): Identity()\n",
              "      )\n",
              "      (_se_expand): Conv2dStaticSamePadding(\n",
              "        20, 480, kernel_size=(1, 1), stride=(1, 1)\n",
              "        (static_padding): Identity()\n",
              "      )\n",
              "      (_project_conv): Conv2dStaticSamePadding(\n",
              "        480, 80, kernel_size=(1, 1), stride=(1, 1), bias=False\n",
              "        (static_padding): Identity()\n",
              "      )\n",
              "      (_bn2): BatchNorm2d(80, eps=0.001, momentum=0.010000000000000009, affine=True, track_running_stats=True)\n",
              "      (_swish): MemoryEfficientSwish()\n",
              "    )\n",
              "    (8): MBConvBlock(\n",
              "      (_expand_conv): Conv2dStaticSamePadding(\n",
              "        80, 480, kernel_size=(1, 1), stride=(1, 1), bias=False\n",
              "        (static_padding): Identity()\n",
              "      )\n",
              "      (_bn0): BatchNorm2d(480, eps=0.001, momentum=0.010000000000000009, affine=True, track_running_stats=True)\n",
              "      (_depthwise_conv): Conv2dStaticSamePadding(\n",
              "        480, 480, kernel_size=(5, 5), stride=[1, 1], groups=480, bias=False\n",
              "        (static_padding): ZeroPad2d(padding=(2, 2, 2, 2), value=0.0)\n",
              "      )\n",
              "      (_bn1): BatchNorm2d(480, eps=0.001, momentum=0.010000000000000009, affine=True, track_running_stats=True)\n",
              "      (_se_reduce): Conv2dStaticSamePadding(\n",
              "        480, 20, kernel_size=(1, 1), stride=(1, 1)\n",
              "        (static_padding): Identity()\n",
              "      )\n",
              "      (_se_expand): Conv2dStaticSamePadding(\n",
              "        20, 480, kernel_size=(1, 1), stride=(1, 1)\n",
              "        (static_padding): Identity()\n",
              "      )\n",
              "      (_project_conv): Conv2dStaticSamePadding(\n",
              "        480, 112, kernel_size=(1, 1), stride=(1, 1), bias=False\n",
              "        (static_padding): Identity()\n",
              "      )\n",
              "      (_bn2): BatchNorm2d(112, eps=0.001, momentum=0.010000000000000009, affine=True, track_running_stats=True)\n",
              "      (_swish): MemoryEfficientSwish()\n",
              "    )\n",
              "    (9): MBConvBlock(\n",
              "      (_expand_conv): Conv2dStaticSamePadding(\n",
              "        112, 672, kernel_size=(1, 1), stride=(1, 1), bias=False\n",
              "        (static_padding): Identity()\n",
              "      )\n",
              "      (_bn0): BatchNorm2d(672, eps=0.001, momentum=0.010000000000000009, affine=True, track_running_stats=True)\n",
              "      (_depthwise_conv): Conv2dStaticSamePadding(\n",
              "        672, 672, kernel_size=(5, 5), stride=(1, 1), groups=672, bias=False\n",
              "        (static_padding): ZeroPad2d(padding=(2, 2, 2, 2), value=0.0)\n",
              "      )\n",
              "      (_bn1): BatchNorm2d(672, eps=0.001, momentum=0.010000000000000009, affine=True, track_running_stats=True)\n",
              "      (_se_reduce): Conv2dStaticSamePadding(\n",
              "        672, 28, kernel_size=(1, 1), stride=(1, 1)\n",
              "        (static_padding): Identity()\n",
              "      )\n",
              "      (_se_expand): Conv2dStaticSamePadding(\n",
              "        28, 672, kernel_size=(1, 1), stride=(1, 1)\n",
              "        (static_padding): Identity()\n",
              "      )\n",
              "      (_project_conv): Conv2dStaticSamePadding(\n",
              "        672, 112, kernel_size=(1, 1), stride=(1, 1), bias=False\n",
              "        (static_padding): Identity()\n",
              "      )\n",
              "      (_bn2): BatchNorm2d(112, eps=0.001, momentum=0.010000000000000009, affine=True, track_running_stats=True)\n",
              "      (_swish): MemoryEfficientSwish()\n",
              "    )\n",
              "    (10): MBConvBlock(\n",
              "      (_expand_conv): Conv2dStaticSamePadding(\n",
              "        112, 672, kernel_size=(1, 1), stride=(1, 1), bias=False\n",
              "        (static_padding): Identity()\n",
              "      )\n",
              "      (_bn0): BatchNorm2d(672, eps=0.001, momentum=0.010000000000000009, affine=True, track_running_stats=True)\n",
              "      (_depthwise_conv): Conv2dStaticSamePadding(\n",
              "        672, 672, kernel_size=(5, 5), stride=(1, 1), groups=672, bias=False\n",
              "        (static_padding): ZeroPad2d(padding=(2, 2, 2, 2), value=0.0)\n",
              "      )\n",
              "      (_bn1): BatchNorm2d(672, eps=0.001, momentum=0.010000000000000009, affine=True, track_running_stats=True)\n",
              "      (_se_reduce): Conv2dStaticSamePadding(\n",
              "        672, 28, kernel_size=(1, 1), stride=(1, 1)\n",
              "        (static_padding): Identity()\n",
              "      )\n",
              "      (_se_expand): Conv2dStaticSamePadding(\n",
              "        28, 672, kernel_size=(1, 1), stride=(1, 1)\n",
              "        (static_padding): Identity()\n",
              "      )\n",
              "      (_project_conv): Conv2dStaticSamePadding(\n",
              "        672, 112, kernel_size=(1, 1), stride=(1, 1), bias=False\n",
              "        (static_padding): Identity()\n",
              "      )\n",
              "      (_bn2): BatchNorm2d(112, eps=0.001, momentum=0.010000000000000009, affine=True, track_running_stats=True)\n",
              "      (_swish): MemoryEfficientSwish()\n",
              "    )\n",
              "    (11): MBConvBlock(\n",
              "      (_expand_conv): Conv2dStaticSamePadding(\n",
              "        112, 672, kernel_size=(1, 1), stride=(1, 1), bias=False\n",
              "        (static_padding): Identity()\n",
              "      )\n",
              "      (_bn0): BatchNorm2d(672, eps=0.001, momentum=0.010000000000000009, affine=True, track_running_stats=True)\n",
              "      (_depthwise_conv): Conv2dStaticSamePadding(\n",
              "        672, 672, kernel_size=(5, 5), stride=[2, 2], groups=672, bias=False\n",
              "        (static_padding): ZeroPad2d(padding=(1, 2, 1, 2), value=0.0)\n",
              "      )\n",
              "      (_bn1): BatchNorm2d(672, eps=0.001, momentum=0.010000000000000009, affine=True, track_running_stats=True)\n",
              "      (_se_reduce): Conv2dStaticSamePadding(\n",
              "        672, 28, kernel_size=(1, 1), stride=(1, 1)\n",
              "        (static_padding): Identity()\n",
              "      )\n",
              "      (_se_expand): Conv2dStaticSamePadding(\n",
              "        28, 672, kernel_size=(1, 1), stride=(1, 1)\n",
              "        (static_padding): Identity()\n",
              "      )\n",
              "      (_project_conv): Conv2dStaticSamePadding(\n",
              "        672, 192, kernel_size=(1, 1), stride=(1, 1), bias=False\n",
              "        (static_padding): Identity()\n",
              "      )\n",
              "      (_bn2): BatchNorm2d(192, eps=0.001, momentum=0.010000000000000009, affine=True, track_running_stats=True)\n",
              "      (_swish): MemoryEfficientSwish()\n",
              "    )\n",
              "    (12): MBConvBlock(\n",
              "      (_expand_conv): Conv2dStaticSamePadding(\n",
              "        192, 1152, kernel_size=(1, 1), stride=(1, 1), bias=False\n",
              "        (static_padding): Identity()\n",
              "      )\n",
              "      (_bn0): BatchNorm2d(1152, eps=0.001, momentum=0.010000000000000009, affine=True, track_running_stats=True)\n",
              "      (_depthwise_conv): Conv2dStaticSamePadding(\n",
              "        1152, 1152, kernel_size=(5, 5), stride=(1, 1), groups=1152, bias=False\n",
              "        (static_padding): ZeroPad2d(padding=(2, 2, 2, 2), value=0.0)\n",
              "      )\n",
              "      (_bn1): BatchNorm2d(1152, eps=0.001, momentum=0.010000000000000009, affine=True, track_running_stats=True)\n",
              "      (_se_reduce): Conv2dStaticSamePadding(\n",
              "        1152, 48, kernel_size=(1, 1), stride=(1, 1)\n",
              "        (static_padding): Identity()\n",
              "      )\n",
              "      (_se_expand): Conv2dStaticSamePadding(\n",
              "        48, 1152, kernel_size=(1, 1), stride=(1, 1)\n",
              "        (static_padding): Identity()\n",
              "      )\n",
              "      (_project_conv): Conv2dStaticSamePadding(\n",
              "        1152, 192, kernel_size=(1, 1), stride=(1, 1), bias=False\n",
              "        (static_padding): Identity()\n",
              "      )\n",
              "      (_bn2): BatchNorm2d(192, eps=0.001, momentum=0.010000000000000009, affine=True, track_running_stats=True)\n",
              "      (_swish): MemoryEfficientSwish()\n",
              "    )\n",
              "    (13): MBConvBlock(\n",
              "      (_expand_conv): Conv2dStaticSamePadding(\n",
              "        192, 1152, kernel_size=(1, 1), stride=(1, 1), bias=False\n",
              "        (static_padding): Identity()\n",
              "      )\n",
              "      (_bn0): BatchNorm2d(1152, eps=0.001, momentum=0.010000000000000009, affine=True, track_running_stats=True)\n",
              "      (_depthwise_conv): Conv2dStaticSamePadding(\n",
              "        1152, 1152, kernel_size=(5, 5), stride=(1, 1), groups=1152, bias=False\n",
              "        (static_padding): ZeroPad2d(padding=(2, 2, 2, 2), value=0.0)\n",
              "      )\n",
              "      (_bn1): BatchNorm2d(1152, eps=0.001, momentum=0.010000000000000009, affine=True, track_running_stats=True)\n",
              "      (_se_reduce): Conv2dStaticSamePadding(\n",
              "        1152, 48, kernel_size=(1, 1), stride=(1, 1)\n",
              "        (static_padding): Identity()\n",
              "      )\n",
              "      (_se_expand): Conv2dStaticSamePadding(\n",
              "        48, 1152, kernel_size=(1, 1), stride=(1, 1)\n",
              "        (static_padding): Identity()\n",
              "      )\n",
              "      (_project_conv): Conv2dStaticSamePadding(\n",
              "        1152, 192, kernel_size=(1, 1), stride=(1, 1), bias=False\n",
              "        (static_padding): Identity()\n",
              "      )\n",
              "      (_bn2): BatchNorm2d(192, eps=0.001, momentum=0.010000000000000009, affine=True, track_running_stats=True)\n",
              "      (_swish): MemoryEfficientSwish()\n",
              "    )\n",
              "    (14): MBConvBlock(\n",
              "      (_expand_conv): Conv2dStaticSamePadding(\n",
              "        192, 1152, kernel_size=(1, 1), stride=(1, 1), bias=False\n",
              "        (static_padding): Identity()\n",
              "      )\n",
              "      (_bn0): BatchNorm2d(1152, eps=0.001, momentum=0.010000000000000009, affine=True, track_running_stats=True)\n",
              "      (_depthwise_conv): Conv2dStaticSamePadding(\n",
              "        1152, 1152, kernel_size=(5, 5), stride=(1, 1), groups=1152, bias=False\n",
              "        (static_padding): ZeroPad2d(padding=(2, 2, 2, 2), value=0.0)\n",
              "      )\n",
              "      (_bn1): BatchNorm2d(1152, eps=0.001, momentum=0.010000000000000009, affine=True, track_running_stats=True)\n",
              "      (_se_reduce): Conv2dStaticSamePadding(\n",
              "        1152, 48, kernel_size=(1, 1), stride=(1, 1)\n",
              "        (static_padding): Identity()\n",
              "      )\n",
              "      (_se_expand): Conv2dStaticSamePadding(\n",
              "        48, 1152, kernel_size=(1, 1), stride=(1, 1)\n",
              "        (static_padding): Identity()\n",
              "      )\n",
              "      (_project_conv): Conv2dStaticSamePadding(\n",
              "        1152, 192, kernel_size=(1, 1), stride=(1, 1), bias=False\n",
              "        (static_padding): Identity()\n",
              "      )\n",
              "      (_bn2): BatchNorm2d(192, eps=0.001, momentum=0.010000000000000009, affine=True, track_running_stats=True)\n",
              "      (_swish): MemoryEfficientSwish()\n",
              "    )\n",
              "    (15): MBConvBlock(\n",
              "      (_expand_conv): Conv2dStaticSamePadding(\n",
              "        192, 1152, kernel_size=(1, 1), stride=(1, 1), bias=False\n",
              "        (static_padding): Identity()\n",
              "      )\n",
              "      (_bn0): BatchNorm2d(1152, eps=0.001, momentum=0.010000000000000009, affine=True, track_running_stats=True)\n",
              "      (_depthwise_conv): Conv2dStaticSamePadding(\n",
              "        1152, 1152, kernel_size=(3, 3), stride=[1, 1], groups=1152, bias=False\n",
              "        (static_padding): ZeroPad2d(padding=(1, 1, 1, 1), value=0.0)\n",
              "      )\n",
              "      (_bn1): BatchNorm2d(1152, eps=0.001, momentum=0.010000000000000009, affine=True, track_running_stats=True)\n",
              "      (_se_reduce): Conv2dStaticSamePadding(\n",
              "        1152, 48, kernel_size=(1, 1), stride=(1, 1)\n",
              "        (static_padding): Identity()\n",
              "      )\n",
              "      (_se_expand): Conv2dStaticSamePadding(\n",
              "        48, 1152, kernel_size=(1, 1), stride=(1, 1)\n",
              "        (static_padding): Identity()\n",
              "      )\n",
              "      (_project_conv): Conv2dStaticSamePadding(\n",
              "        1152, 320, kernel_size=(1, 1), stride=(1, 1), bias=False\n",
              "        (static_padding): Identity()\n",
              "      )\n",
              "      (_bn2): BatchNorm2d(320, eps=0.001, momentum=0.010000000000000009, affine=True, track_running_stats=True)\n",
              "      (_swish): MemoryEfficientSwish()\n",
              "    )\n",
              "  )\n",
              "  (_conv_head): Conv2dStaticSamePadding(\n",
              "    320, 1280, kernel_size=(1, 1), stride=(1, 1), bias=False\n",
              "    (static_padding): Identity()\n",
              "  )\n",
              "  (_bn1): BatchNorm2d(1280, eps=0.001, momentum=0.010000000000000009, affine=True, track_running_stats=True)\n",
              "  (_avg_pooling): AdaptiveAvgPool2d(output_size=1)\n",
              "  (_dropout): Dropout(p=0.2, inplace=False)\n",
              "  (_fc): Linear(in_features=1280, out_features=30, bias=True)\n",
              "  (_swish): MemoryEfficientSwish()\n",
              ")"
            ]
          },
          "metadata": {},
          "execution_count": 29
        }
      ]
    },
    {
      "cell_type": "code",
      "metadata": {
        "colab": {
          "base_uri": "https://localhost:8080/",
          "height": 742
        },
        "id": "iJ2M8AojnMDx",
        "outputId": "373de0eb-d0d9-4d46-8b7e-ee41650127c9"
      },
      "source": [
        "#evaluating on some samples\n",
        "count=0\n",
        "for idx, (data,labels) in enumerate(test_loader):\n",
        "  #print(data,labels)]\n",
        "  print(idx)\n",
        "  data=data.to(device=DEVICE)\n",
        "  score=model(data)#calculating the score means labels\n",
        "  print(score,score.shape,labels)\n",
        "  plt.imshow(data[0][0].detach().cpu().numpy(), cmap='gray')\n",
        "  plt.plot(score[0][0::2].detach().cpu().numpy(), score[0][1::2].detach().cpu().numpy(), \"go\")\n",
        "  break\n"
      ],
      "execution_count": null,
      "outputs": [
        {
          "output_type": "stream",
          "name": "stderr",
          "text": [
            "/usr/local/lib/python3.7/dist-packages/torch/utils/data/dataloader.py:481: UserWarning: This DataLoader will create 4 worker processes in total. Our suggested max number of worker in current system is 2, which is smaller than what this DataLoader is going to create. Please be aware that excessive worker creation might get DataLoader running slow or even freeze, lower the worker number to avoid potential slowness/freeze if necessary.\n",
            "  cpuset_checked))\n"
          ]
        },
        {
          "output_type": "stream",
          "name": "stdout",
          "text": [
            "inside else\n",
            "inside else\n",
            "inside else\n",
            "inside else\n",
            "[ 1.  3.  6. ... 22. 33. 28.] inside else 1366\n",
            "[215. 208. 199. ...  82.  77.  82.] inside else 836\n",
            "[38. 37. 35. ... 10. 10. 10.] inside else 1638\n",
            "[30. 30. 30. ... 69. 70. 70.] inside else 1015\n",
            "inside else\n",
            "inside else\n",
            "[ 59.  64.  63. ... 248. 255. 255.] inside else 388\n",
            "inside else\n",
            "[51. 53. 55. ... 94. 96. 94.] inside else 674\n",
            "inside else\n",
            "[177. 176. 174. ...   1.   1.   1.] inside else 2\n",
            "inside else\n",
            "[  6.   0.   1. ...  85. 139. 145.] inside else 179\n",
            "[ 30.  30.  29. ... 135. 137. 140.] inside else 1526\n",
            "0\n",
            "tensor([[67.4014, 37.5628, 31.1602, 42.6257, 59.1929, 39.3470, 74.1384, 37.2923,\n",
            "         38.2395, 41.9316, 24.2498, 43.2915, 54.5233, 31.7410, 78.5129, 28.4437,\n",
            "         37.6036, 34.4913, 18.0672, 36.1993, 48.8935, 65.8330, 69.5537, 73.1045,\n",
            "         37.4441, 76.3693, 51.7964, 74.8662, 52.5344, 78.6992]],\n",
            "       device='cuda:0', grad_fn=<AddmmBackward>) torch.Size([1, 30]) tensor([[0., 0., 0., 0., 0., 0., 0., 0., 0., 0., 0., 0., 0., 0., 0., 0., 0., 0., 0., 0., 0., 0., 0., 0.,\n",
            "         0., 0., 0., 0., 0., 0.]])\n"
          ]
        },
        {
          "output_type": "display_data",
          "data": {
            "image/png": "[encoded data removed]",
            "text/plain": [
              "<Figure size 432x288 with 1 Axes>"
            ]
          },
          "metadata": {
            "needs_background": "light"
          }
        }
      ]
    },
    {
      "cell_type": "code",
      "metadata": {
        "colab": {
          "base_uri": "https://localhost:8080/"
        },
        "id": "NW8fJkrVolDh",
        "outputId": "12a410e4-05af-4800-e6a4-39a055999be0"
      },
      "source": [
        "for idx, (data,labels) in enumerate(test_loader):\n",
        "  #print(data,labels)]\n",
        "  print(data.shape)\n",
        "  break\n"
      ],
      "execution_count": null,
      "outputs": [
        {
          "output_type": "stream",
          "name": "stderr",
          "text": [
            "/usr/local/lib/python3.7/dist-packages/torch/utils/data/dataloader.py:481: UserWarning: This DataLoader will create 4 worker processes in total. Our suggested max number of worker in current system is 2, which is smaller than what this DataLoader is going to create. Please be aware that excessive worker creation might get DataLoader running slow or even freeze, lower the worker number to avoid potential slowness/freeze if necessary.\n",
            "  cpuset_checked))\n"
          ]
        },
        {
          "output_type": "stream",
          "name": "stdout",
          "text": [
            "inside else\n",
            "inside else\n",
            "inside else\n",
            "inside else\n",
            "[ 79.  72.  65. ... 169. 166. 179.] inside else 777\n",
            "[11.  5. 17. ... 31. 38. 47.] inside else 581\n",
            "[159. 158. 154. ...  44.  45.  47.] inside else 79\n",
            "inside else\n",
            "inside else\n",
            "inside else\n",
            "[231. 236. 160. ...  20.  19.  19.] inside else 1530\n",
            "[150. 151. 145. ...  84.  94. 105.] inside else 256\n",
            "[149. 147. 150. ... 199. 207. 210.] inside else 1600\n",
            "[254. 254. 254. ...  43.  69.  97.] inside else 100\n",
            "torch.Size([1, 3, 96, 96])\n"
          ]
        }
      ]
    },
    {
      "cell_type": "code",
      "metadata": {
        "id": "nQ8-NkaZJRCF"
      },
      "source": [
        ""
      ],
      "execution_count": null,
      "outputs": []
    }
  ]
}